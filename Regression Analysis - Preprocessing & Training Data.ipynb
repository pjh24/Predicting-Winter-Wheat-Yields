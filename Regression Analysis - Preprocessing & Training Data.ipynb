{
 "cells": [
  {
   "cell_type": "code",
   "execution_count": 1,
   "id": "409abc4a",
   "metadata": {},
   "outputs": [],
   "source": [
    "#Imports \n",
    "import pandas as pd \n",
    "import seaborn as sns\n",
    "import matplotlib.pyplot as plt \n",
    "import numpy as np\n",
    "from sklearn.preprocessing import StandardScaler"
   ]
  },
  {
   "cell_type": "code",
   "execution_count": 2,
   "id": "45ad5449",
   "metadata": {},
   "outputs": [],
   "source": [
    "#Read data\n",
    "soiCropYield = pd.read_csv('DATA/crop_yield_plus_soi.csv')"
   ]
  },
  {
   "cell_type": "code",
   "execution_count": 3,
   "id": "a47e2bde",
   "metadata": {},
   "outputs": [
    {
     "data": {
      "text/html": [
       "<div>\n",
       "<style scoped>\n",
       "    .dataframe tbody tr th:only-of-type {\n",
       "        vertical-align: middle;\n",
       "    }\n",
       "\n",
       "    .dataframe tbody tr th {\n",
       "        vertical-align: top;\n",
       "    }\n",
       "\n",
       "    .dataframe thead th {\n",
       "        text-align: right;\n",
       "    }\n",
       "</style>\n",
       "<table border=\"1\" class=\"dataframe\">\n",
       "  <thead>\n",
       "    <tr style=\"text-align: right;\">\n",
       "      <th></th>\n",
       "      <th>Year</th>\n",
       "      <th>Corn Yield</th>\n",
       "      <th>Cotton Yield</th>\n",
       "      <th>Rice Yield</th>\n",
       "      <th>Soybean Yield</th>\n",
       "      <th>Wheat Yield</th>\n",
       "      <th>Yield Units</th>\n",
       "      <th>DJFM Mean SOI</th>\n",
       "    </tr>\n",
       "  </thead>\n",
       "  <tbody>\n",
       "    <tr>\n",
       "      <th>0</th>\n",
       "      <td>2023</td>\n",
       "      <td>147.0</td>\n",
       "      <td>41.0</td>\n",
       "      <td>167.0</td>\n",
       "      <td>45.0</td>\n",
       "      <td>70.0</td>\n",
       "      <td>bu / acre</td>\n",
       "      <td>1.28</td>\n",
       "    </tr>\n",
       "    <tr>\n",
       "      <th>1</th>\n",
       "      <td>2022</td>\n",
       "      <td>161.0</td>\n",
       "      <td>39.0</td>\n",
       "      <td>176.0</td>\n",
       "      <td>45.5</td>\n",
       "      <td>60.0</td>\n",
       "      <td>bu / acre</td>\n",
       "      <td>1.23</td>\n",
       "    </tr>\n",
       "    <tr>\n",
       "      <th>2</th>\n",
       "      <td>2021</td>\n",
       "      <td>159.0</td>\n",
       "      <td>39.0</td>\n",
       "      <td>179.0</td>\n",
       "      <td>49.0</td>\n",
       "      <td>65.0</td>\n",
       "      <td>bu / acre</td>\n",
       "      <td>1.40</td>\n",
       "    </tr>\n",
       "    <tr>\n",
       "      <th>3</th>\n",
       "      <td>2020</td>\n",
       "      <td>171.0</td>\n",
       "      <td>36.0</td>\n",
       "      <td>161.0</td>\n",
       "      <td>51.0</td>\n",
       "      <td>62.0</td>\n",
       "      <td>bu / acre</td>\n",
       "      <td>-0.15</td>\n",
       "    </tr>\n",
       "    <tr>\n",
       "      <th>4</th>\n",
       "      <td>2019</td>\n",
       "      <td>155.0</td>\n",
       "      <td>37.0</td>\n",
       "      <td>164.0</td>\n",
       "      <td>46.0</td>\n",
       "      <td>63.0</td>\n",
       "      <td>bu / acre</td>\n",
       "      <td>-0.17</td>\n",
       "    </tr>\n",
       "  </tbody>\n",
       "</table>\n",
       "</div>"
      ],
      "text/plain": [
       "   Year  Corn Yield  Cotton Yield  Rice Yield  Soybean Yield  Wheat Yield  \\\n",
       "0  2023       147.0          41.0       167.0           45.0         70.0   \n",
       "1  2022       161.0          39.0       176.0           45.5         60.0   \n",
       "2  2021       159.0          39.0       179.0           49.0         65.0   \n",
       "3  2020       171.0          36.0       161.0           51.0         62.0   \n",
       "4  2019       155.0          37.0       164.0           46.0         63.0   \n",
       "\n",
       "  Yield Units  DJFM Mean SOI  \n",
       "0   bu / acre           1.28  \n",
       "1   bu / acre           1.23  \n",
       "2   bu / acre           1.40  \n",
       "3   bu / acre          -0.15  \n",
       "4   bu / acre          -0.17  "
      ]
     },
     "execution_count": 3,
     "metadata": {},
     "output_type": "execute_result"
    }
   ],
   "source": [
    "soiCropYield.head()"
   ]
  },
  {
   "cell_type": "code",
   "execution_count": 4,
   "id": "4db8eead",
   "metadata": {},
   "outputs": [],
   "source": [
    "#Add name of SOI phase to dataframe: SOI phase\n",
    "phase = []\n",
    "\n",
    "for i in soiCropYield.index:\n",
    "    if soiCropYield['DJFM Mean SOI'][i] < 0:\n",
    "        phase.append('El Nino')\n",
    "    elif soiCropYield['DJFM Mean SOI'][i] > 0:\n",
    "        phase.append('La Nina')\n",
    "    else:\n",
    "        phase.append('Neutral')\n",
    "\n",
    "soiCropYield['SOI phase'] = phase"
   ]
  },
  {
   "cell_type": "code",
   "execution_count": 5,
   "id": "cb3c5b60",
   "metadata": {},
   "outputs": [
    {
     "data": {
      "text/html": [
       "<div>\n",
       "<style scoped>\n",
       "    .dataframe tbody tr th:only-of-type {\n",
       "        vertical-align: middle;\n",
       "    }\n",
       "\n",
       "    .dataframe tbody tr th {\n",
       "        vertical-align: top;\n",
       "    }\n",
       "\n",
       "    .dataframe thead th {\n",
       "        text-align: right;\n",
       "    }\n",
       "</style>\n",
       "<table border=\"1\" class=\"dataframe\">\n",
       "  <thead>\n",
       "    <tr style=\"text-align: right;\">\n",
       "      <th></th>\n",
       "      <th>Year</th>\n",
       "      <th>Corn Yield</th>\n",
       "      <th>Cotton Yield</th>\n",
       "      <th>Rice Yield</th>\n",
       "      <th>Soybean Yield</th>\n",
       "      <th>Wheat Yield</th>\n",
       "      <th>Yield Units</th>\n",
       "      <th>DJFM Mean SOI</th>\n",
       "      <th>SOI phase</th>\n",
       "    </tr>\n",
       "  </thead>\n",
       "  <tbody>\n",
       "    <tr>\n",
       "      <th>0</th>\n",
       "      <td>2023</td>\n",
       "      <td>147.0</td>\n",
       "      <td>41.0</td>\n",
       "      <td>167.0</td>\n",
       "      <td>45.0</td>\n",
       "      <td>70.0</td>\n",
       "      <td>bu / acre</td>\n",
       "      <td>1.28</td>\n",
       "      <td>La Nina</td>\n",
       "    </tr>\n",
       "    <tr>\n",
       "      <th>1</th>\n",
       "      <td>2022</td>\n",
       "      <td>161.0</td>\n",
       "      <td>39.0</td>\n",
       "      <td>176.0</td>\n",
       "      <td>45.5</td>\n",
       "      <td>60.0</td>\n",
       "      <td>bu / acre</td>\n",
       "      <td>1.23</td>\n",
       "      <td>La Nina</td>\n",
       "    </tr>\n",
       "    <tr>\n",
       "      <th>2</th>\n",
       "      <td>2021</td>\n",
       "      <td>159.0</td>\n",
       "      <td>39.0</td>\n",
       "      <td>179.0</td>\n",
       "      <td>49.0</td>\n",
       "      <td>65.0</td>\n",
       "      <td>bu / acre</td>\n",
       "      <td>1.40</td>\n",
       "      <td>La Nina</td>\n",
       "    </tr>\n",
       "    <tr>\n",
       "      <th>3</th>\n",
       "      <td>2020</td>\n",
       "      <td>171.0</td>\n",
       "      <td>36.0</td>\n",
       "      <td>161.0</td>\n",
       "      <td>51.0</td>\n",
       "      <td>62.0</td>\n",
       "      <td>bu / acre</td>\n",
       "      <td>-0.15</td>\n",
       "      <td>El Nino</td>\n",
       "    </tr>\n",
       "    <tr>\n",
       "      <th>4</th>\n",
       "      <td>2019</td>\n",
       "      <td>155.0</td>\n",
       "      <td>37.0</td>\n",
       "      <td>164.0</td>\n",
       "      <td>46.0</td>\n",
       "      <td>63.0</td>\n",
       "      <td>bu / acre</td>\n",
       "      <td>-0.17</td>\n",
       "      <td>El Nino</td>\n",
       "    </tr>\n",
       "  </tbody>\n",
       "</table>\n",
       "</div>"
      ],
      "text/plain": [
       "   Year  Corn Yield  Cotton Yield  Rice Yield  Soybean Yield  Wheat Yield  \\\n",
       "0  2023       147.0          41.0       167.0           45.0         70.0   \n",
       "1  2022       161.0          39.0       176.0           45.5         60.0   \n",
       "2  2021       159.0          39.0       179.0           49.0         65.0   \n",
       "3  2020       171.0          36.0       161.0           51.0         62.0   \n",
       "4  2019       155.0          37.0       164.0           46.0         63.0   \n",
       "\n",
       "  Yield Units  DJFM Mean SOI SOI phase  \n",
       "0   bu / acre           1.28   La Nina  \n",
       "1   bu / acre           1.23   La Nina  \n",
       "2   bu / acre           1.40   La Nina  \n",
       "3   bu / acre          -0.15   El Nino  \n",
       "4   bu / acre          -0.17   El Nino  "
      ]
     },
     "execution_count": 5,
     "metadata": {},
     "output_type": "execute_result"
    }
   ],
   "source": [
    "soiCropYield.head()"
   ]
  },
  {
   "cell_type": "code",
   "execution_count": 6,
   "id": "482bb783",
   "metadata": {},
   "outputs": [
    {
     "data": {
      "text/plain": [
       "La Nina    40\n",
       "El Nino    30\n",
       "Neutral     2\n",
       "Name: SOI phase, dtype: int64"
      ]
     },
     "execution_count": 6,
     "metadata": {},
     "output_type": "execute_result"
    }
   ],
   "source": [
    "soiCropYield['SOI phase'].value_counts()"
   ]
  },
  {
   "cell_type": "code",
   "execution_count": 7,
   "id": "5758092d",
   "metadata": {},
   "outputs": [],
   "source": [
    "#Create dummy features for categorical variables \n",
    "soiCropYield_dummies = pd.get_dummies(soiCropYield, columns=['SOI phase'], drop_first=True, prefix='Phase')"
   ]
  },
  {
   "cell_type": "code",
   "execution_count": 8,
   "id": "8d26b3e9",
   "metadata": {},
   "outputs": [
    {
     "data": {
      "text/html": [
       "<div>\n",
       "<style scoped>\n",
       "    .dataframe tbody tr th:only-of-type {\n",
       "        vertical-align: middle;\n",
       "    }\n",
       "\n",
       "    .dataframe tbody tr th {\n",
       "        vertical-align: top;\n",
       "    }\n",
       "\n",
       "    .dataframe thead th {\n",
       "        text-align: right;\n",
       "    }\n",
       "</style>\n",
       "<table border=\"1\" class=\"dataframe\">\n",
       "  <thead>\n",
       "    <tr style=\"text-align: right;\">\n",
       "      <th></th>\n",
       "      <th>Year</th>\n",
       "      <th>Corn Yield</th>\n",
       "      <th>Cotton Yield</th>\n",
       "      <th>Rice Yield</th>\n",
       "      <th>Soybean Yield</th>\n",
       "      <th>Wheat Yield</th>\n",
       "      <th>Yield Units</th>\n",
       "      <th>DJFM Mean SOI</th>\n",
       "      <th>Phase_La Nina</th>\n",
       "      <th>Phase_Neutral</th>\n",
       "    </tr>\n",
       "  </thead>\n",
       "  <tbody>\n",
       "    <tr>\n",
       "      <th>0</th>\n",
       "      <td>2023</td>\n",
       "      <td>147.0</td>\n",
       "      <td>41.0</td>\n",
       "      <td>167.0</td>\n",
       "      <td>45.0</td>\n",
       "      <td>70.0</td>\n",
       "      <td>bu / acre</td>\n",
       "      <td>1.28</td>\n",
       "      <td>1</td>\n",
       "      <td>0</td>\n",
       "    </tr>\n",
       "    <tr>\n",
       "      <th>1</th>\n",
       "      <td>2022</td>\n",
       "      <td>161.0</td>\n",
       "      <td>39.0</td>\n",
       "      <td>176.0</td>\n",
       "      <td>45.5</td>\n",
       "      <td>60.0</td>\n",
       "      <td>bu / acre</td>\n",
       "      <td>1.23</td>\n",
       "      <td>1</td>\n",
       "      <td>0</td>\n",
       "    </tr>\n",
       "    <tr>\n",
       "      <th>2</th>\n",
       "      <td>2021</td>\n",
       "      <td>159.0</td>\n",
       "      <td>39.0</td>\n",
       "      <td>179.0</td>\n",
       "      <td>49.0</td>\n",
       "      <td>65.0</td>\n",
       "      <td>bu / acre</td>\n",
       "      <td>1.40</td>\n",
       "      <td>1</td>\n",
       "      <td>0</td>\n",
       "    </tr>\n",
       "    <tr>\n",
       "      <th>3</th>\n",
       "      <td>2020</td>\n",
       "      <td>171.0</td>\n",
       "      <td>36.0</td>\n",
       "      <td>161.0</td>\n",
       "      <td>51.0</td>\n",
       "      <td>62.0</td>\n",
       "      <td>bu / acre</td>\n",
       "      <td>-0.15</td>\n",
       "      <td>0</td>\n",
       "      <td>0</td>\n",
       "    </tr>\n",
       "    <tr>\n",
       "      <th>4</th>\n",
       "      <td>2019</td>\n",
       "      <td>155.0</td>\n",
       "      <td>37.0</td>\n",
       "      <td>164.0</td>\n",
       "      <td>46.0</td>\n",
       "      <td>63.0</td>\n",
       "      <td>bu / acre</td>\n",
       "      <td>-0.17</td>\n",
       "      <td>0</td>\n",
       "      <td>0</td>\n",
       "    </tr>\n",
       "  </tbody>\n",
       "</table>\n",
       "</div>"
      ],
      "text/plain": [
       "   Year  Corn Yield  Cotton Yield  Rice Yield  Soybean Yield  Wheat Yield  \\\n",
       "0  2023       147.0          41.0       167.0           45.0         70.0   \n",
       "1  2022       161.0          39.0       176.0           45.5         60.0   \n",
       "2  2021       159.0          39.0       179.0           49.0         65.0   \n",
       "3  2020       171.0          36.0       161.0           51.0         62.0   \n",
       "4  2019       155.0          37.0       164.0           46.0         63.0   \n",
       "\n",
       "  Yield Units  DJFM Mean SOI  Phase_La Nina  Phase_Neutral  \n",
       "0   bu / acre           1.28              1              0  \n",
       "1   bu / acre           1.23              1              0  \n",
       "2   bu / acre           1.40              1              0  \n",
       "3   bu / acre          -0.15              0              0  \n",
       "4   bu / acre          -0.17              0              0  "
      ]
     },
     "execution_count": 8,
     "metadata": {},
     "output_type": "execute_result"
    }
   ],
   "source": [
    "soiCropYield_dummies.head()"
   ]
  },
  {
   "cell_type": "code",
   "execution_count": 9,
   "id": "6a474959",
   "metadata": {},
   "outputs": [
    {
     "data": {
      "text/plain": [
       "Year               int64\n",
       "Corn Yield       float64\n",
       "Cotton Yield     float64\n",
       "Rice Yield       float64\n",
       "Soybean Yield    float64\n",
       "Wheat Yield      float64\n",
       "Yield Units       object\n",
       "DJFM Mean SOI    float64\n",
       "Phase_La Nina      uint8\n",
       "Phase_Neutral      uint8\n",
       "dtype: object"
      ]
     },
     "execution_count": 9,
     "metadata": {},
     "output_type": "execute_result"
    }
   ],
   "source": [
    "#Standardize the magnitude of numeric features using a scaler\n",
    "soiCropYield_dummies.dtypes"
   ]
  },
  {
   "cell_type": "code",
   "execution_count": 10,
   "id": "3395214f",
   "metadata": {},
   "outputs": [
    {
     "name": "stdout",
     "output_type": "stream",
     "text": [
      "1    40\n",
      "0    32\n",
      "Name: Phase_La Nina, dtype: int64\n"
     ]
    }
   ],
   "source": [
    "print(soiCropYield_dummies[\"Phase_La Nina\"].value_counts())"
   ]
  },
  {
   "cell_type": "code",
   "execution_count": 11,
   "id": "2a8f78d7",
   "metadata": {},
   "outputs": [
    {
     "name": "stdout",
     "output_type": "stream",
     "text": [
      "0    70\n",
      "1     2\n",
      "Name: Phase_Neutral, dtype: int64\n"
     ]
    }
   ],
   "source": [
    "print(soiCropYield_dummies[\"Phase_Neutral\"].value_counts())"
   ]
  },
  {
   "cell_type": "code",
   "execution_count": 12,
   "id": "2a768c26",
   "metadata": {},
   "outputs": [
    {
     "name": "stdout",
     "output_type": "stream",
     "text": [
      "(72, 10)\n"
     ]
    }
   ],
   "source": [
    "print(soiCropYield_dummies.shape)"
   ]
  },
  {
   "cell_type": "code",
   "execution_count": 13,
   "id": "5328129e",
   "metadata": {},
   "outputs": [],
   "source": [
    "numeric_columns = soiCropYield_dummies.select_dtypes(include=[\"float\"])"
   ]
  },
  {
   "cell_type": "code",
   "execution_count": 14,
   "id": "fa4d865f",
   "metadata": {},
   "outputs": [
    {
     "data": {
      "text/html": [
       "<div>\n",
       "<style scoped>\n",
       "    .dataframe tbody tr th:only-of-type {\n",
       "        vertical-align: middle;\n",
       "    }\n",
       "\n",
       "    .dataframe tbody tr th {\n",
       "        vertical-align: top;\n",
       "    }\n",
       "\n",
       "    .dataframe thead th {\n",
       "        text-align: right;\n",
       "    }\n",
       "</style>\n",
       "<table border=\"1\" class=\"dataframe\">\n",
       "  <thead>\n",
       "    <tr style=\"text-align: right;\">\n",
       "      <th></th>\n",
       "      <th>Corn Yield</th>\n",
       "      <th>Cotton Yield</th>\n",
       "      <th>Rice Yield</th>\n",
       "      <th>Soybean Yield</th>\n",
       "      <th>Wheat Yield</th>\n",
       "      <th>DJFM Mean SOI</th>\n",
       "    </tr>\n",
       "  </thead>\n",
       "  <tbody>\n",
       "    <tr>\n",
       "      <th>0</th>\n",
       "      <td>147.0</td>\n",
       "      <td>41.0</td>\n",
       "      <td>167.0</td>\n",
       "      <td>45.0</td>\n",
       "      <td>70.0</td>\n",
       "      <td>1.28</td>\n",
       "    </tr>\n",
       "    <tr>\n",
       "      <th>1</th>\n",
       "      <td>161.0</td>\n",
       "      <td>39.0</td>\n",
       "      <td>176.0</td>\n",
       "      <td>45.5</td>\n",
       "      <td>60.0</td>\n",
       "      <td>1.23</td>\n",
       "    </tr>\n",
       "    <tr>\n",
       "      <th>2</th>\n",
       "      <td>159.0</td>\n",
       "      <td>39.0</td>\n",
       "      <td>179.0</td>\n",
       "      <td>49.0</td>\n",
       "      <td>65.0</td>\n",
       "      <td>1.40</td>\n",
       "    </tr>\n",
       "    <tr>\n",
       "      <th>3</th>\n",
       "      <td>171.0</td>\n",
       "      <td>36.0</td>\n",
       "      <td>161.0</td>\n",
       "      <td>51.0</td>\n",
       "      <td>62.0</td>\n",
       "      <td>-0.15</td>\n",
       "    </tr>\n",
       "    <tr>\n",
       "      <th>4</th>\n",
       "      <td>155.0</td>\n",
       "      <td>37.0</td>\n",
       "      <td>164.0</td>\n",
       "      <td>46.0</td>\n",
       "      <td>63.0</td>\n",
       "      <td>-0.17</td>\n",
       "    </tr>\n",
       "  </tbody>\n",
       "</table>\n",
       "</div>"
      ],
      "text/plain": [
       "   Corn Yield  Cotton Yield  Rice Yield  Soybean Yield  Wheat Yield  \\\n",
       "0       147.0          41.0       167.0           45.0         70.0   \n",
       "1       161.0          39.0       176.0           45.5         60.0   \n",
       "2       159.0          39.0       179.0           49.0         65.0   \n",
       "3       171.0          36.0       161.0           51.0         62.0   \n",
       "4       155.0          37.0       164.0           46.0         63.0   \n",
       "\n",
       "   DJFM Mean SOI  \n",
       "0           1.28  \n",
       "1           1.23  \n",
       "2           1.40  \n",
       "3          -0.15  \n",
       "4          -0.17  "
      ]
     },
     "execution_count": 14,
     "metadata": {},
     "output_type": "execute_result"
    }
   ],
   "source": [
    "numeric_columns.head(5)"
   ]
  },
  {
   "cell_type": "code",
   "execution_count": 15,
   "id": "13d72c38",
   "metadata": {},
   "outputs": [
    {
     "name": "stdout",
     "output_type": "stream",
     "text": [
      "(72, 6)\n"
     ]
    }
   ],
   "source": [
    "print(numeric_columns.shape)"
   ]
  },
  {
   "cell_type": "code",
   "execution_count": 16,
   "id": "cd67bd27",
   "metadata": {},
   "outputs": [
    {
     "name": "stdout",
     "output_type": "stream",
     "text": [
      "Index(['Corn Yield', 'Cotton Yield', 'Rice Yield', 'Soybean Yield',\n",
      "       'Wheat Yield', 'DJFM Mean SOI'],\n",
      "      dtype='object')\n"
     ]
    }
   ],
   "source": [
    "feature_names = numeric_columns.columns\n",
    "print(feature_names)"
   ]
  },
  {
   "cell_type": "code",
   "execution_count": 17,
   "id": "c0007b30",
   "metadata": {},
   "outputs": [],
   "source": [
    "scaler = StandardScaler()\n",
    "scaler.fit(numeric_columns)\n",
    "numeric_columns_scaled = scaler.transform(numeric_columns)"
   ]
  },
  {
   "cell_type": "code",
   "execution_count": 18,
   "id": "5b6933e8",
   "metadata": {},
   "outputs": [],
   "source": [
    "df_numeric_columns_scaled = pd.DataFrame(numeric_columns_scaled, columns=feature_names)"
   ]
  },
  {
   "cell_type": "code",
   "execution_count": 19,
   "id": "f6e6a4a5",
   "metadata": {},
   "outputs": [
    {
     "data": {
      "text/html": [
       "<div>\n",
       "<style scoped>\n",
       "    .dataframe tbody tr th:only-of-type {\n",
       "        vertical-align: middle;\n",
       "    }\n",
       "\n",
       "    .dataframe tbody tr th {\n",
       "        vertical-align: top;\n",
       "    }\n",
       "\n",
       "    .dataframe thead th {\n",
       "        text-align: right;\n",
       "    }\n",
       "</style>\n",
       "<table border=\"1\" class=\"dataframe\">\n",
       "  <thead>\n",
       "    <tr style=\"text-align: right;\">\n",
       "      <th></th>\n",
       "      <th>Corn Yield</th>\n",
       "      <th>Cotton Yield</th>\n",
       "      <th>Rice Yield</th>\n",
       "      <th>Soybean Yield</th>\n",
       "      <th>Wheat Yield</th>\n",
       "      <th>DJFM Mean SOI</th>\n",
       "    </tr>\n",
       "  </thead>\n",
       "  <tbody>\n",
       "    <tr>\n",
       "      <th>0</th>\n",
       "      <td>1.208568</td>\n",
       "      <td>2.158421</td>\n",
       "      <td>1.660790</td>\n",
       "      <td>1.507605</td>\n",
       "      <td>2.253470</td>\n",
       "      <td>1.125658</td>\n",
       "    </tr>\n",
       "    <tr>\n",
       "      <th>1</th>\n",
       "      <td>1.562553</td>\n",
       "      <td>1.931053</td>\n",
       "      <td>1.944596</td>\n",
       "      <td>1.562845</td>\n",
       "      <td>1.432576</td>\n",
       "      <td>1.073604</td>\n",
       "    </tr>\n",
       "    <tr>\n",
       "      <th>2</th>\n",
       "      <td>1.511983</td>\n",
       "      <td>1.931053</td>\n",
       "      <td>2.039198</td>\n",
       "      <td>1.949528</td>\n",
       "      <td>1.843023</td>\n",
       "      <td>1.250586</td>\n",
       "    </tr>\n",
       "    <tr>\n",
       "      <th>3</th>\n",
       "      <td>1.815398</td>\n",
       "      <td>1.590000</td>\n",
       "      <td>1.471586</td>\n",
       "      <td>2.170490</td>\n",
       "      <td>1.596754</td>\n",
       "      <td>-0.363073</td>\n",
       "    </tr>\n",
       "    <tr>\n",
       "      <th>4</th>\n",
       "      <td>1.410845</td>\n",
       "      <td>1.703684</td>\n",
       "      <td>1.566188</td>\n",
       "      <td>1.618086</td>\n",
       "      <td>1.678844</td>\n",
       "      <td>-0.383895</td>\n",
       "    </tr>\n",
       "  </tbody>\n",
       "</table>\n",
       "</div>"
      ],
      "text/plain": [
       "   Corn Yield  Cotton Yield  Rice Yield  Soybean Yield  Wheat Yield  \\\n",
       "0    1.208568      2.158421    1.660790       1.507605     2.253470   \n",
       "1    1.562553      1.931053    1.944596       1.562845     1.432576   \n",
       "2    1.511983      1.931053    2.039198       1.949528     1.843023   \n",
       "3    1.815398      1.590000    1.471586       2.170490     1.596754   \n",
       "4    1.410845      1.703684    1.566188       1.618086     1.678844   \n",
       "\n",
       "   DJFM Mean SOI  \n",
       "0       1.125658  \n",
       "1       1.073604  \n",
       "2       1.250586  \n",
       "3      -0.363073  \n",
       "4      -0.383895  "
      ]
     },
     "execution_count": 19,
     "metadata": {},
     "output_type": "execute_result"
    }
   ],
   "source": [
    "df_numeric_columns_scaled.head()"
   ]
  },
  {
   "cell_type": "code",
   "execution_count": 20,
   "id": "2fbf7bfa",
   "metadata": {},
   "outputs": [],
   "source": [
    "df_dummies = soiCropYield_dummies[[\"Phase_La Nina\", \"Phase_Neutral\"]]"
   ]
  },
  {
   "cell_type": "code",
   "execution_count": 21,
   "id": "91be9d7f",
   "metadata": {},
   "outputs": [
    {
     "data": {
      "text/html": [
       "<div>\n",
       "<style scoped>\n",
       "    .dataframe tbody tr th:only-of-type {\n",
       "        vertical-align: middle;\n",
       "    }\n",
       "\n",
       "    .dataframe tbody tr th {\n",
       "        vertical-align: top;\n",
       "    }\n",
       "\n",
       "    .dataframe thead th {\n",
       "        text-align: right;\n",
       "    }\n",
       "</style>\n",
       "<table border=\"1\" class=\"dataframe\">\n",
       "  <thead>\n",
       "    <tr style=\"text-align: right;\">\n",
       "      <th></th>\n",
       "      <th>Phase_La Nina</th>\n",
       "      <th>Phase_Neutral</th>\n",
       "    </tr>\n",
       "  </thead>\n",
       "  <tbody>\n",
       "    <tr>\n",
       "      <th>0</th>\n",
       "      <td>1</td>\n",
       "      <td>0</td>\n",
       "    </tr>\n",
       "    <tr>\n",
       "      <th>1</th>\n",
       "      <td>1</td>\n",
       "      <td>0</td>\n",
       "    </tr>\n",
       "    <tr>\n",
       "      <th>2</th>\n",
       "      <td>1</td>\n",
       "      <td>0</td>\n",
       "    </tr>\n",
       "    <tr>\n",
       "      <th>3</th>\n",
       "      <td>0</td>\n",
       "      <td>0</td>\n",
       "    </tr>\n",
       "    <tr>\n",
       "      <th>4</th>\n",
       "      <td>0</td>\n",
       "      <td>0</td>\n",
       "    </tr>\n",
       "  </tbody>\n",
       "</table>\n",
       "</div>"
      ],
      "text/plain": [
       "   Phase_La Nina  Phase_Neutral\n",
       "0              1              0\n",
       "1              1              0\n",
       "2              1              0\n",
       "3              0              0\n",
       "4              0              0"
      ]
     },
     "execution_count": 21,
     "metadata": {},
     "output_type": "execute_result"
    }
   ],
   "source": [
    "df_dummies.head()"
   ]
  },
  {
   "cell_type": "code",
   "execution_count": 22,
   "id": "96a6376c",
   "metadata": {},
   "outputs": [],
   "source": [
    "df_concat = pd.concat([df_numeric_columns_scaled, df_dummies], axis=1)"
   ]
  },
  {
   "cell_type": "code",
   "execution_count": 23,
   "id": "685526df",
   "metadata": {},
   "outputs": [
    {
     "data": {
      "text/html": [
       "<div>\n",
       "<style scoped>\n",
       "    .dataframe tbody tr th:only-of-type {\n",
       "        vertical-align: middle;\n",
       "    }\n",
       "\n",
       "    .dataframe tbody tr th {\n",
       "        vertical-align: top;\n",
       "    }\n",
       "\n",
       "    .dataframe thead th {\n",
       "        text-align: right;\n",
       "    }\n",
       "</style>\n",
       "<table border=\"1\" class=\"dataframe\">\n",
       "  <thead>\n",
       "    <tr style=\"text-align: right;\">\n",
       "      <th></th>\n",
       "      <th>Corn Yield</th>\n",
       "      <th>Cotton Yield</th>\n",
       "      <th>Rice Yield</th>\n",
       "      <th>Soybean Yield</th>\n",
       "      <th>Wheat Yield</th>\n",
       "      <th>DJFM Mean SOI</th>\n",
       "      <th>Phase_La Nina</th>\n",
       "      <th>Phase_Neutral</th>\n",
       "    </tr>\n",
       "  </thead>\n",
       "  <tbody>\n",
       "    <tr>\n",
       "      <th>0</th>\n",
       "      <td>1.208568</td>\n",
       "      <td>2.158421</td>\n",
       "      <td>1.660790</td>\n",
       "      <td>1.507605</td>\n",
       "      <td>2.253470</td>\n",
       "      <td>1.125658</td>\n",
       "      <td>1</td>\n",
       "      <td>0</td>\n",
       "    </tr>\n",
       "    <tr>\n",
       "      <th>1</th>\n",
       "      <td>1.562553</td>\n",
       "      <td>1.931053</td>\n",
       "      <td>1.944596</td>\n",
       "      <td>1.562845</td>\n",
       "      <td>1.432576</td>\n",
       "      <td>1.073604</td>\n",
       "      <td>1</td>\n",
       "      <td>0</td>\n",
       "    </tr>\n",
       "    <tr>\n",
       "      <th>2</th>\n",
       "      <td>1.511983</td>\n",
       "      <td>1.931053</td>\n",
       "      <td>2.039198</td>\n",
       "      <td>1.949528</td>\n",
       "      <td>1.843023</td>\n",
       "      <td>1.250586</td>\n",
       "      <td>1</td>\n",
       "      <td>0</td>\n",
       "    </tr>\n",
       "    <tr>\n",
       "      <th>3</th>\n",
       "      <td>1.815398</td>\n",
       "      <td>1.590000</td>\n",
       "      <td>1.471586</td>\n",
       "      <td>2.170490</td>\n",
       "      <td>1.596754</td>\n",
       "      <td>-0.363073</td>\n",
       "      <td>0</td>\n",
       "      <td>0</td>\n",
       "    </tr>\n",
       "    <tr>\n",
       "      <th>4</th>\n",
       "      <td>1.410845</td>\n",
       "      <td>1.703684</td>\n",
       "      <td>1.566188</td>\n",
       "      <td>1.618086</td>\n",
       "      <td>1.678844</td>\n",
       "      <td>-0.383895</td>\n",
       "      <td>0</td>\n",
       "      <td>0</td>\n",
       "    </tr>\n",
       "  </tbody>\n",
       "</table>\n",
       "</div>"
      ],
      "text/plain": [
       "   Corn Yield  Cotton Yield  Rice Yield  Soybean Yield  Wheat Yield  \\\n",
       "0    1.208568      2.158421    1.660790       1.507605     2.253470   \n",
       "1    1.562553      1.931053    1.944596       1.562845     1.432576   \n",
       "2    1.511983      1.931053    2.039198       1.949528     1.843023   \n",
       "3    1.815398      1.590000    1.471586       2.170490     1.596754   \n",
       "4    1.410845      1.703684    1.566188       1.618086     1.678844   \n",
       "\n",
       "   DJFM Mean SOI  Phase_La Nina  Phase_Neutral  \n",
       "0       1.125658              1              0  \n",
       "1       1.073604              1              0  \n",
       "2       1.250586              1              0  \n",
       "3      -0.363073              0              0  \n",
       "4      -0.383895              0              0  "
      ]
     },
     "execution_count": 23,
     "metadata": {},
     "output_type": "execute_result"
    }
   ],
   "source": [
    "df_concat.head()"
   ]
  },
  {
   "cell_type": "code",
   "execution_count": null,
   "id": "b59dc0b7",
   "metadata": {},
   "outputs": [],
   "source": [
    "#Split data into training and testing datasets\n",
    "#In my Capstone Two project, I do not have a target variable.  Consequently, splitting the data into training\n",
    "#and testing datasets does not make any sense.  See my \"Capstone Two - EDA\" Jupiter notebook for further insight\n",
    "#into scope of my project.  DO I need to revamp my initial project?\n",
    "#\n",
    "#NOTE: I do know how to split data into trianing and testing datasets\n",
    "#\n",
    "#     X_train, X_test, y_train, y_test = train_test_split(X, y, test_size=0.2, random_state=42)\n",
    "#\n",
    "#     where, X is a DataFrame/matrix of features \n",
    "#            y is a Series/vector of target variable \n"
   ]
  }
 ],
 "metadata": {
  "kernelspec": {
   "display_name": "Python 3 (ipykernel)",
   "language": "python",
   "name": "python3"
  },
  "language_info": {
   "codemirror_mode": {
    "name": "ipython",
    "version": 3
   },
   "file_extension": ".py",
   "mimetype": "text/x-python",
   "name": "python",
   "nbconvert_exporter": "python",
   "pygments_lexer": "ipython3",
   "version": "3.11.4"
  }
 },
 "nbformat": 4,
 "nbformat_minor": 5
}
