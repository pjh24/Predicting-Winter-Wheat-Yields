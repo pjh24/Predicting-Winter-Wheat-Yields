{
 "cells": [
  {
   "cell_type": "code",
   "execution_count": 3,
   "id": "38e3875a",
   "metadata": {},
   "outputs": [],
   "source": [
    "#Imports\n",
    "import pandas as pd \n",
    "import seaborn as sns\n",
    "import matplotlib.pyplot as plt \n",
    "import numpy as np "
   ]
  },
  {
   "cell_type": "markdown",
   "id": "9bce4da7",
   "metadata": {},
   "source": [
    "# Read raw data"
   ]
  },
  {
   "cell_type": "code",
   "execution_count": 2,
   "id": "5f9b6f39",
   "metadata": {},
   "outputs": [],
   "source": [
    "#Read raw SOI data\n",
    "soi_anomaly = pd.read_csv('DATA/soi_anomaly.txt', sep='\\s+', header=0)\n",
    "soi_standard = pd.read_csv('DATA/soi_standardized.txt', sep='\\s+', header=0)"
   ]
  },
  {
   "cell_type": "code",
   "execution_count": 4,
   "id": "51e3fb71",
   "metadata": {},
   "outputs": [],
   "source": [
    "#Read raw Missouri crop yield data\n",
    "mo_crop_yield = pd.read_csv('DATA/MO_crop_yield.csv', sep=',', header=0)"
   ]
  },
  {
   "cell_type": "code",
   "execution_count": 4,
   "id": "24c6176a",
   "metadata": {},
   "outputs": [
    {
     "name": "stdout",
     "output_type": "stream",
     "text": [
      "   YEAR  JAN  FEB  MAR  APR  MAY  JUN  JUL  AUG  SEP  OCT  NOV  DEC\n",
      "0  1951  2.5  1.5 -0.2 -0.5 -1.1  0.3 -1.7 -0.4 -1.8 -1.6 -1.3 -1.2\n",
      "1  1952 -1.5 -1.0  0.9 -0.4  1.2  1.2  0.8  0.1 -0.4  0.6  0.0 -2.0\n",
      "2  1953  0.5 -0.8 -0.3  0.3 -2.8  0.2 -0.0 -2.0 -2.1  0.1 -0.5 -0.8\n",
      "3  1954  1.1 -0.5  0.4  1.1  0.8  0.2  0.7  1.8  0.3  0.4  0.2  2.3\n",
      "4  1955 -0.9  3.1  1.1 -0.2  1.7  2.2  2.6  2.4  2.2  2.5  2.0  1.6\n"
     ]
    }
   ],
   "source": [
    "print(soi_anomaly.head())"
   ]
  },
  {
   "cell_type": "code",
   "execution_count": 5,
   "id": "c839672d",
   "metadata": {},
   "outputs": [
    {
     "name": "stdout",
     "output_type": "stream",
     "text": [
      "   YEAR  JAN  FEB  MAR  APR  MAY  JUN  JUL  AUG  SEP  OCT  NOV  DEC\n",
      "0  1951  1.5  0.9 -0.1 -0.3 -0.7  0.2 -1.0 -0.2 -1.1 -1.0 -0.8 -0.7\n",
      "1  1952 -0.9 -0.6  0.5 -0.2  0.8  0.7  0.5  0.1 -0.2  0.4  0.0 -1.2\n",
      "2  1953  0.3 -0.5 -0.2  0.2 -1.7  0.1 -0.0 -1.2 -1.2  0.1 -0.3 -0.5\n",
      "3  1954  0.7 -0.3  0.3  0.6  0.5  0.1  0.4  1.1  0.2  0.3  0.1  1.4\n",
      "4  1955 -0.5  1.9  0.6 -0.1  1.0  1.3  1.6  1.5  1.3  1.5  1.2  1.0\n"
     ]
    }
   ],
   "source": [
    "print(soi_standard.head())"
   ]
  },
  {
   "cell_type": "code",
   "execution_count": 5,
   "id": "31081fb6",
   "metadata": {},
   "outputs": [
    {
     "name": "stdout",
     "output_type": "stream",
     "text": [
      "  Program  Year Period  Week Ending Geo Level     State  State ANSI  \\\n",
      "0  SURVEY  2023   YEAR          NaN     STATE  MISSOURI          29   \n",
      "1  SURVEY  2023   YEAR          NaN     STATE  MISSOURI          29   \n",
      "2  SURVEY  2023   YEAR          NaN     STATE  MISSOURI          29   \n",
      "3  SURVEY  2023   YEAR          NaN     STATE  MISSOURI          29   \n",
      "4  SURVEY  2023   YEAR          NaN     STATE  MISSOURI          29   \n",
      "\n",
      "   Ag District  Ag District Code  County  ...  Zip Code  Region  \\\n",
      "0          NaN               NaN     NaN  ...       NaN     NaN   \n",
      "1          NaN               NaN     NaN  ...       NaN     NaN   \n",
      "2          NaN               NaN     NaN  ...       NaN     NaN   \n",
      "3          NaN               NaN     NaN  ...       NaN     NaN   \n",
      "4          NaN               NaN     NaN  ...       NaN     NaN   \n",
      "\n",
      "   watershed_code  Watershed  Commodity  \\\n",
      "0               0        NaN       CORN   \n",
      "1               0        NaN     COTTON   \n",
      "2               0        NaN       RICE   \n",
      "3               0        NaN   SOYBEANS   \n",
      "4               0        NaN      WHEAT   \n",
      "\n",
      "                                      Data Item Domain Domain Category  Value  \\\n",
      "0    CORN, GRAIN - YIELD, MEASURED IN BU / ACRE  TOTAL   NOT SPECIFIED    147   \n",
      "1         COTTON - YIELD, MEASURED IN LB / ACRE  TOTAL   NOT SPECIFIED  1,324   \n",
      "2           RICE - YIELD, MEASURED IN LB / ACRE  TOTAL   NOT SPECIFIED  7,500   \n",
      "3       SOYBEANS - YIELD, MEASURED IN BU / ACRE  TOTAL   NOT SPECIFIED     45   \n",
      "4  WHEAT, WINTER - YIELD, MEASURED IN BU / ACRE  TOTAL   NOT SPECIFIED     70   \n",
      "\n",
      "  CV (%)  \n",
      "0    NaN  \n",
      "1    NaN  \n",
      "2    NaN  \n",
      "3    NaN  \n",
      "4    NaN  \n",
      "\n",
      "[5 rows x 21 columns]\n"
     ]
    }
   ],
   "source": [
    "print(mo_crop_yield.head())"
   ]
  },
  {
   "cell_type": "code",
   "execution_count": 9,
   "id": "da8757da",
   "metadata": {},
   "outputs": [
    {
     "name": "stdout",
     "output_type": "stream",
     "text": [
      "    Program  Year Period  Week Ending Geo Level     State  State ANSI  \\\n",
      "360  SURVEY  1951   YEAR          NaN     STATE  MISSOURI          29   \n",
      "361  SURVEY  1951   YEAR          NaN     STATE  MISSOURI          29   \n",
      "362  SURVEY  1951   YEAR          NaN     STATE  MISSOURI          29   \n",
      "363  SURVEY  1951   YEAR          NaN     STATE  MISSOURI          29   \n",
      "364  SURVEY  1951   YEAR          NaN     STATE  MISSOURI          29   \n",
      "\n",
      "     Ag District  Ag District Code  County  ...  Zip Code  Region  \\\n",
      "360          NaN               NaN     NaN  ...       NaN     NaN   \n",
      "361          NaN               NaN     NaN  ...       NaN     NaN   \n",
      "362          NaN               NaN     NaN  ...       NaN     NaN   \n",
      "363          NaN               NaN     NaN  ...       NaN     NaN   \n",
      "364          NaN               NaN     NaN  ...       NaN     NaN   \n",
      "\n",
      "     watershed_code  Watershed  Commodity  \\\n",
      "360               0        NaN       CORN   \n",
      "361               0        NaN     COTTON   \n",
      "362               0        NaN       RICE   \n",
      "363               0        NaN   SOYBEANS   \n",
      "364               0        NaN      WHEAT   \n",
      "\n",
      "                                        Data Item Domain Domain Category  \\\n",
      "360    CORN, GRAIN - YIELD, MEASURED IN BU / ACRE  TOTAL   NOT SPECIFIED   \n",
      "361         COTTON - YIELD, MEASURED IN LB / ACRE  TOTAL   NOT SPECIFIED   \n",
      "362           RICE - YIELD, MEASURED IN LB / ACRE  TOTAL   NOT SPECIFIED   \n",
      "363       SOYBEANS - YIELD, MEASURED IN BU / ACRE  TOTAL   NOT SPECIFIED   \n",
      "364  WHEAT, WINTER - YIELD, MEASURED IN BU / ACRE  TOTAL   NOT SPECIFIED   \n",
      "\n",
      "     Value CV (%)  \n",
      "360     34    NaN  \n",
      "361    279    NaN  \n",
      "362  2,575    NaN  \n",
      "363     20    NaN  \n",
      "364     17    NaN  \n",
      "\n",
      "[5 rows x 21 columns]\n"
     ]
    }
   ],
   "source": [
    "print(mo_crop_yield.tail())"
   ]
  },
  {
   "cell_type": "code",
   "execution_count": 8,
   "id": "2a6d37aa",
   "metadata": {},
   "outputs": [
    {
     "name": "stdout",
     "output_type": "stream",
     "text": [
      "(365, 21)\n"
     ]
    }
   ],
   "source": [
    "print(mo_crop_yield.shape)"
   ]
  },
  {
   "cell_type": "markdown",
   "id": "ba4fdba6",
   "metadata": {},
   "source": [
    "# Explore & clean the MO crop yield data"
   ]
  },
  {
   "cell_type": "code",
   "execution_count": 7,
   "id": "4700a492",
   "metadata": {},
   "outputs": [],
   "source": [
    "#Remove columns that have no data or not needed\n",
    "mo_crop_yield_clean = mo_crop_yield.drop(columns=['Program','Period','Week Ending','Geo Level','State','State ANSI', \\\n",
    "                                                  'Ag District','Ag District Code','County','County ANSI','Zip Code', \\\n",
    "                                                  'Region','watershed_code','Watershed','Domain','Domain Category', \\\n",
    "                                                  'CV (%)'])"
   ]
  },
  {
   "cell_type": "code",
   "execution_count": 8,
   "id": "0e275c41",
   "metadata": {},
   "outputs": [
    {
     "name": "stdout",
     "output_type": "stream",
     "text": [
      "   Year Commodity                                     Data Item  Value\n",
      "0  2023      CORN    CORN, GRAIN - YIELD, MEASURED IN BU / ACRE    147\n",
      "1  2023    COTTON         COTTON - YIELD, MEASURED IN LB / ACRE  1,324\n",
      "2  2023      RICE           RICE - YIELD, MEASURED IN LB / ACRE  7,500\n",
      "3  2023  SOYBEANS       SOYBEANS - YIELD, MEASURED IN BU / ACRE     45\n",
      "4  2023     WHEAT  WHEAT, WINTER - YIELD, MEASURED IN BU / ACRE     70\n"
     ]
    }
   ],
   "source": [
    "print(mo_crop_yield_clean.head())"
   ]
  },
  {
   "cell_type": "code",
   "execution_count": 9,
   "id": "0bb93f1c",
   "metadata": {},
   "outputs": [
    {
     "name": "stdout",
     "output_type": "stream",
     "text": [
      "(365, 4)\n"
     ]
    }
   ],
   "source": [
    "print(mo_crop_yield_clean.shape)"
   ]
  },
  {
   "cell_type": "code",
   "execution_count": 10,
   "id": "9941685a",
   "metadata": {},
   "outputs": [
    {
     "name": "stdout",
     "output_type": "stream",
     "text": [
      "Index(['Year', 'Commodity', 'Data Item', 'Value'], dtype='object')\n"
     ]
    }
   ],
   "source": [
    "print(mo_crop_yield_clean.columns)"
   ]
  },
  {
   "cell_type": "code",
   "execution_count": 11,
   "id": "8f98dc5a",
   "metadata": {},
   "outputs": [
    {
     "name": "stdout",
     "output_type": "stream",
     "text": [
      "<class 'pandas.core.frame.DataFrame'>\n",
      "RangeIndex: 365 entries, 0 to 364\n",
      "Data columns (total 4 columns):\n",
      " #   Column     Non-Null Count  Dtype \n",
      "---  ------     --------------  ----- \n",
      " 0   Year       365 non-null    int64 \n",
      " 1   Commodity  365 non-null    object\n",
      " 2   Data Item  365 non-null    object\n",
      " 3   Value      365 non-null    object\n",
      "dtypes: int64(1), object(3)\n",
      "memory usage: 11.5+ KB\n",
      "None\n"
     ]
    }
   ],
   "source": [
    "print(mo_crop_yield_clean.info())"
   ]
  },
  {
   "cell_type": "code",
   "execution_count": 12,
   "id": "b926eca7",
   "metadata": {},
   "outputs": [],
   "source": [
    "#Rename 'Value' column to 'Yearly Yield'\n",
    "mo_crop_yield_clean.rename({'Value':'Yearly Yield'}, axis=1, inplace=True)"
   ]
  },
  {
   "cell_type": "code",
   "execution_count": 13,
   "id": "d341c594",
   "metadata": {},
   "outputs": [
    {
     "name": "stdout",
     "output_type": "stream",
     "text": [
      "   Year Commodity                                     Data Item Yearly Yield\n",
      "0  2023      CORN    CORN, GRAIN - YIELD, MEASURED IN BU / ACRE          147\n",
      "1  2023    COTTON         COTTON - YIELD, MEASURED IN LB / ACRE        1,324\n",
      "2  2023      RICE           RICE - YIELD, MEASURED IN LB / ACRE        7,500\n",
      "3  2023  SOYBEANS       SOYBEANS - YIELD, MEASURED IN BU / ACRE           45\n",
      "4  2023     WHEAT  WHEAT, WINTER - YIELD, MEASURED IN BU / ACRE           70\n"
     ]
    }
   ],
   "source": [
    "print(mo_crop_yield_clean.head())"
   ]
  },
  {
   "cell_type": "code",
   "execution_count": 14,
   "id": "939decb4",
   "metadata": {},
   "outputs": [],
   "source": [
    "#Remove commas from 'Yearly Yield' data\n",
    "mo_crop_yield_clean['Yearly Yield']=mo_crop_yield_clean['Yearly Yield'].str.replace(\",\",\"\")\n"
   ]
  },
  {
   "cell_type": "code",
   "execution_count": 15,
   "id": "e59ad9f2",
   "metadata": {},
   "outputs": [
    {
     "name": "stdout",
     "output_type": "stream",
     "text": [
      "   Year Commodity                                     Data Item Yearly Yield\n",
      "0  2023      CORN    CORN, GRAIN - YIELD, MEASURED IN BU / ACRE          147\n",
      "1  2023    COTTON         COTTON - YIELD, MEASURED IN LB / ACRE         1324\n",
      "2  2023      RICE           RICE - YIELD, MEASURED IN LB / ACRE         7500\n",
      "3  2023  SOYBEANS       SOYBEANS - YIELD, MEASURED IN BU / ACRE           45\n",
      "4  2023     WHEAT  WHEAT, WINTER - YIELD, MEASURED IN BU / ACRE           70\n"
     ]
    }
   ],
   "source": [
    "print(mo_crop_yield_clean.head())"
   ]
  },
  {
   "cell_type": "code",
   "execution_count": 16,
   "id": "3f02f952",
   "metadata": {},
   "outputs": [],
   "source": [
    "#Convert 'Yearly Yield' data from object to float \n",
    "mo_crop_yield_clean['Yearly Yield'] = mo_crop_yield_clean['Yearly Yield'].astype(float)"
   ]
  },
  {
   "cell_type": "code",
   "execution_count": 17,
   "id": "7566192d",
   "metadata": {},
   "outputs": [
    {
     "name": "stdout",
     "output_type": "stream",
     "text": [
      "    Year Commodity                                     Data Item  Yearly Yield\n",
      "0   2023      CORN    CORN, GRAIN - YIELD, MEASURED IN BU / ACRE         147.0\n",
      "1   2023    COTTON         COTTON - YIELD, MEASURED IN LB / ACRE        1324.0\n",
      "2   2023      RICE           RICE - YIELD, MEASURED IN LB / ACRE        7500.0\n",
      "3   2023  SOYBEANS       SOYBEANS - YIELD, MEASURED IN BU / ACRE          45.0\n",
      "4   2023     WHEAT  WHEAT, WINTER - YIELD, MEASURED IN BU / ACRE          70.0\n",
      "5   2022      CORN    CORN, GRAIN - YIELD, MEASURED IN BU / ACRE         161.0\n",
      "6   2022    COTTON         COTTON - YIELD, MEASURED IN LB / ACRE        1240.0\n",
      "7   2022      RICE           RICE - YIELD, MEASURED IN LB / ACRE        7940.0\n",
      "8   2022  SOYBEANS       SOYBEANS - YIELD, MEASURED IN BU / ACRE          45.5\n",
      "9   2022     WHEAT  WHEAT, WINTER - YIELD, MEASURED IN BU / ACRE          60.0\n",
      "10  2021      CORN    CORN, GRAIN - YIELD, MEASURED IN BU / ACRE         159.0\n",
      "11  2021    COTTON         COTTON - YIELD, MEASURED IN LB / ACRE        1260.0\n",
      "12  2021      RICE           RICE - YIELD, MEASURED IN LB / ACRE        8040.0\n",
      "13  2021  SOYBEANS       SOYBEANS - YIELD, MEASURED IN BU / ACRE          49.0\n",
      "14  2021     WHEAT  WHEAT, WINTER - YIELD, MEASURED IN BU / ACRE          65.0\n"
     ]
    }
   ],
   "source": [
    "print(mo_crop_yield_clean.head(15))"
   ]
  },
  {
   "cell_type": "code",
   "execution_count": 18,
   "id": "abae1cf0",
   "metadata": {},
   "outputs": [
    {
     "name": "stdout",
     "output_type": "stream",
     "text": [
      "<class 'pandas.core.frame.DataFrame'>\n",
      "RangeIndex: 365 entries, 0 to 364\n",
      "Data columns (total 4 columns):\n",
      " #   Column        Non-Null Count  Dtype  \n",
      "---  ------        --------------  -----  \n",
      " 0   Year          365 non-null    int64  \n",
      " 1   Commodity     365 non-null    object \n",
      " 2   Data Item     365 non-null    object \n",
      " 3   Yearly Yield  365 non-null    float64\n",
      "dtypes: float64(1), int64(1), object(2)\n",
      "memory usage: 11.5+ KB\n",
      "None\n"
     ]
    }
   ],
   "source": [
    "print(mo_crop_yield_clean.info())"
   ]
  },
  {
   "cell_type": "code",
   "execution_count": null,
   "id": "fbbe3573",
   "metadata": {},
   "outputs": [],
   "source": [
    "#mo_crop_yield_clean_sort = mo_crop_yield_clean.sort_values(by=[\"Commodity\",\"Year\"],ascending=[True,False],ignore_index=True)"
   ]
  },
  {
   "cell_type": "code",
   "execution_count": 19,
   "id": "c689306e",
   "metadata": {},
   "outputs": [],
   "source": [
    "#Separate crop data by type \n",
    "mo_yield_corn = mo_crop_yield_clean[mo_crop_yield_clean[\"Commodity\"]=='CORN'] \n",
    "mo_yield_cotton = mo_crop_yield_clean[mo_crop_yield_clean[\"Commodity\"]=='COTTON']\n",
    "mo_yield_soybeans = mo_crop_yield_clean[mo_crop_yield_clean[\"Commodity\"]=='SOYBEANS']\n",
    "mo_yield_rice = mo_crop_yield_clean[mo_crop_yield_clean[\"Commodity\"]=='RICE']\n",
    "mo_yield_wheat = mo_crop_yield_clean[mo_crop_yield_clean[\"Commodity\"]=='WHEAT']"
   ]
  },
  {
   "cell_type": "code",
   "execution_count": 20,
   "id": "8c40c493",
   "metadata": {},
   "outputs": [
    {
     "name": "stdout",
     "output_type": "stream",
     "text": [
      "    Year Commodity                                   Data Item  Yearly Yield\n",
      "0   2023      CORN  CORN, GRAIN - YIELD, MEASURED IN BU / ACRE         147.0\n",
      "5   2022      CORN  CORN, GRAIN - YIELD, MEASURED IN BU / ACRE         161.0\n",
      "10  2021      CORN  CORN, GRAIN - YIELD, MEASURED IN BU / ACRE         159.0\n",
      "15  2020      CORN  CORN, GRAIN - YIELD, MEASURED IN BU / ACRE         171.0\n",
      "20  2019      CORN  CORN, GRAIN - YIELD, MEASURED IN BU / ACRE         155.0\n"
     ]
    }
   ],
   "source": [
    "print(mo_yield_corn.head())"
   ]
  },
  {
   "cell_type": "code",
   "execution_count": 21,
   "id": "5e4edf8f",
   "metadata": {},
   "outputs": [
    {
     "name": "stdout",
     "output_type": "stream",
     "text": [
      "     Year Commodity                                   Data Item  Yearly Yield\n",
      "340  1955      CORN  CORN, GRAIN - YIELD, MEASURED IN BU / ACRE          40.0\n",
      "345  1954      CORN  CORN, GRAIN - YIELD, MEASURED IN BU / ACRE          23.0\n",
      "350  1953      CORN  CORN, GRAIN - YIELD, MEASURED IN BU / ACRE          33.5\n",
      "355  1952      CORN  CORN, GRAIN - YIELD, MEASURED IN BU / ACRE          41.0\n",
      "360  1951      CORN  CORN, GRAIN - YIELD, MEASURED IN BU / ACRE          34.0\n"
     ]
    }
   ],
   "source": [
    "print(mo_yield_corn.tail())"
   ]
  },
  {
   "cell_type": "code",
   "execution_count": 22,
   "id": "869ea6fb",
   "metadata": {},
   "outputs": [
    {
     "name": "stdout",
     "output_type": "stream",
     "text": [
      "    Year Commodity                              Data Item  Yearly Yield\n",
      "1   2023    COTTON  COTTON - YIELD, MEASURED IN LB / ACRE        1324.0\n",
      "6   2022    COTTON  COTTON - YIELD, MEASURED IN LB / ACRE        1240.0\n",
      "11  2021    COTTON  COTTON - YIELD, MEASURED IN LB / ACRE        1260.0\n",
      "16  2020    COTTON  COTTON - YIELD, MEASURED IN LB / ACRE        1144.0\n",
      "21  2019    COTTON  COTTON - YIELD, MEASURED IN LB / ACRE        1193.0\n"
     ]
    }
   ],
   "source": [
    "print(mo_yield_cotton.head())"
   ]
  },
  {
   "cell_type": "code",
   "execution_count": 23,
   "id": "6cafd543",
   "metadata": {},
   "outputs": [
    {
     "name": "stdout",
     "output_type": "stream",
     "text": [
      "     Year Commodity                              Data Item  Yearly Yield\n",
      "341  1955    COTTON  COTTON - YIELD, MEASURED IN LB / ACRE         502.0\n",
      "346  1954    COTTON  COTTON - YIELD, MEASURED IN LB / ACRE         478.0\n",
      "351  1953    COTTON  COTTON - YIELD, MEASURED IN LB / ACRE         386.0\n",
      "356  1952    COTTON  COTTON - YIELD, MEASURED IN LB / ACRE         367.0\n",
      "361  1951    COTTON  COTTON - YIELD, MEASURED IN LB / ACRE         279.0\n"
     ]
    }
   ],
   "source": [
    "print(mo_yield_cotton.tail())"
   ]
  },
  {
   "cell_type": "code",
   "execution_count": 24,
   "id": "3898b12c",
   "metadata": {},
   "outputs": [
    {
     "name": "stdout",
     "output_type": "stream",
     "text": [
      "    Year Commodity                            Data Item  Yearly Yield\n",
      "2   2023      RICE  RICE - YIELD, MEASURED IN LB / ACRE        7500.0\n",
      "7   2022      RICE  RICE - YIELD, MEASURED IN LB / ACRE        7940.0\n",
      "12  2021      RICE  RICE - YIELD, MEASURED IN LB / ACRE        8040.0\n",
      "17  2020      RICE  RICE - YIELD, MEASURED IN LB / ACRE        7250.0\n",
      "22  2019      RICE  RICE - YIELD, MEASURED IN LB / ACRE        7370.0\n"
     ]
    }
   ],
   "source": [
    "print(mo_yield_rice.head())"
   ]
  },
  {
   "cell_type": "code",
   "execution_count": 25,
   "id": "5b18c49a",
   "metadata": {},
   "outputs": [
    {
     "name": "stdout",
     "output_type": "stream",
     "text": [
      "     Year Commodity                            Data Item  Yearly Yield\n",
      "342  1955      RICE  RICE - YIELD, MEASURED IN LB / ACRE        2600.0\n",
      "347  1954      RICE  RICE - YIELD, MEASURED IN LB / ACRE        2650.0\n",
      "352  1953      RICE  RICE - YIELD, MEASURED IN LB / ACRE        2500.0\n",
      "357  1952      RICE  RICE - YIELD, MEASURED IN LB / ACRE        2450.0\n",
      "362  1951      RICE  RICE - YIELD, MEASURED IN LB / ACRE        2575.0\n"
     ]
    }
   ],
   "source": [
    "print(mo_yield_rice.tail())"
   ]
  },
  {
   "cell_type": "code",
   "execution_count": 26,
   "id": "fdc31507",
   "metadata": {},
   "outputs": [
    {
     "name": "stderr",
     "output_type": "stream",
     "text": [
      "/var/folders/cx/wp0ffkfd3h32cgy6c0r6xtwc0000gn/T/ipykernel_44696/3697546784.py:5: SettingWithCopyWarning: \n",
      "A value is trying to be set on a copy of a slice from a DataFrame.\n",
      "Try using .loc[row_indexer,col_indexer] = value instead\n",
      "\n",
      "See the caveats in the documentation: https://pandas.pydata.org/pandas-docs/stable/user_guide/indexing.html#returning-a-view-versus-a-copy\n",
      "  mo_yield_cotton[\"Yearly Yield\"] = mo_yield_cotton[\"Yearly Yield\"].apply(lambda x:(x*(1/32.))).round()\n",
      "/var/folders/cx/wp0ffkfd3h32cgy6c0r6xtwc0000gn/T/ipykernel_44696/3697546784.py:7: SettingWithCopyWarning: \n",
      "A value is trying to be set on a copy of a slice from a DataFrame.\n",
      "Try using .loc[row_indexer,col_indexer] = value instead\n",
      "\n",
      "See the caveats in the documentation: https://pandas.pydata.org/pandas-docs/stable/user_guide/indexing.html#returning-a-view-versus-a-copy\n",
      "  mo_yield_rice[\"Yearly Yield\"] = mo_yield_rice[\"Yearly Yield\"].apply(lambda x:(x*(1/45.))).round()\n"
     ]
    }
   ],
   "source": [
    "#For cotton & rice, convert lb/acre to bushel(bu)/acre\n",
    "#cotton: 32 pounds per bushel \n",
    "#rice: 45 pounds per bushel (paddy rice) & 60 pounds per bushel (husked rice)\n",
    "\n",
    "mo_yield_cotton[\"Yearly Yield\"] = mo_yield_cotton[\"Yearly Yield\"].apply(lambda x:(x*(1/32.))).round()\n",
    "\n",
    "mo_yield_rice[\"Yearly Yield\"] = mo_yield_rice[\"Yearly Yield\"].apply(lambda x:(x*(1/45.))).round()"
   ]
  },
  {
   "cell_type": "code",
   "execution_count": 27,
   "id": "2ec9c715",
   "metadata": {},
   "outputs": [
    {
     "name": "stdout",
     "output_type": "stream",
     "text": [
      "    Year Commodity                              Data Item  Yearly Yield\n",
      "1   2023    COTTON  COTTON - YIELD, MEASURED IN LB / ACRE          41.0\n",
      "6   2022    COTTON  COTTON - YIELD, MEASURED IN LB / ACRE          39.0\n",
      "11  2021    COTTON  COTTON - YIELD, MEASURED IN LB / ACRE          39.0\n",
      "16  2020    COTTON  COTTON - YIELD, MEASURED IN LB / ACRE          36.0\n",
      "21  2019    COTTON  COTTON - YIELD, MEASURED IN LB / ACRE          37.0\n"
     ]
    }
   ],
   "source": [
    "print(mo_yield_cotton.head())"
   ]
  },
  {
   "cell_type": "code",
   "execution_count": 28,
   "id": "3f3543b4",
   "metadata": {},
   "outputs": [
    {
     "name": "stdout",
     "output_type": "stream",
     "text": [
      "    Year Commodity                            Data Item  Yearly Yield\n",
      "2   2023      RICE  RICE - YIELD, MEASURED IN LB / ACRE         167.0\n",
      "7   2022      RICE  RICE - YIELD, MEASURED IN LB / ACRE         176.0\n",
      "12  2021      RICE  RICE - YIELD, MEASURED IN LB / ACRE         179.0\n",
      "17  2020      RICE  RICE - YIELD, MEASURED IN LB / ACRE         161.0\n",
      "22  2019      RICE  RICE - YIELD, MEASURED IN LB / ACRE         164.0\n"
     ]
    }
   ],
   "source": [
    "print(mo_yield_rice.head())"
   ]
  },
  {
   "cell_type": "code",
   "execution_count": 29,
   "id": "dcb1d100",
   "metadata": {},
   "outputs": [
    {
     "name": "stderr",
     "output_type": "stream",
     "text": [
      "/var/folders/cx/wp0ffkfd3h32cgy6c0r6xtwc0000gn/T/ipykernel_44696/1430308307.py:2: SettingWithCopyWarning: \n",
      "A value is trying to be set on a copy of a slice from a DataFrame\n",
      "\n",
      "See the caveats in the documentation: https://pandas.pydata.org/pandas-docs/stable/user_guide/indexing.html#returning-a-view-versus-a-copy\n",
      "  mo_yield_corn.drop(columns='Data Item', inplace=True)\n",
      "/var/folders/cx/wp0ffkfd3h32cgy6c0r6xtwc0000gn/T/ipykernel_44696/1430308307.py:3: SettingWithCopyWarning: \n",
      "A value is trying to be set on a copy of a slice from a DataFrame\n",
      "\n",
      "See the caveats in the documentation: https://pandas.pydata.org/pandas-docs/stable/user_guide/indexing.html#returning-a-view-versus-a-copy\n",
      "  mo_yield_cotton.drop(columns='Data Item', inplace=True)\n",
      "/var/folders/cx/wp0ffkfd3h32cgy6c0r6xtwc0000gn/T/ipykernel_44696/1430308307.py:4: SettingWithCopyWarning: \n",
      "A value is trying to be set on a copy of a slice from a DataFrame\n",
      "\n",
      "See the caveats in the documentation: https://pandas.pydata.org/pandas-docs/stable/user_guide/indexing.html#returning-a-view-versus-a-copy\n",
      "  mo_yield_soybeans.drop(columns='Data Item', inplace=True)\n",
      "/var/folders/cx/wp0ffkfd3h32cgy6c0r6xtwc0000gn/T/ipykernel_44696/1430308307.py:5: SettingWithCopyWarning: \n",
      "A value is trying to be set on a copy of a slice from a DataFrame\n",
      "\n",
      "See the caveats in the documentation: https://pandas.pydata.org/pandas-docs/stable/user_guide/indexing.html#returning-a-view-versus-a-copy\n",
      "  mo_yield_rice.drop(columns='Data Item', inplace=True)\n",
      "/var/folders/cx/wp0ffkfd3h32cgy6c0r6xtwc0000gn/T/ipykernel_44696/1430308307.py:6: SettingWithCopyWarning: \n",
      "A value is trying to be set on a copy of a slice from a DataFrame\n",
      "\n",
      "See the caveats in the documentation: https://pandas.pydata.org/pandas-docs/stable/user_guide/indexing.html#returning-a-view-versus-a-copy\n",
      "  mo_yield_wheat.drop(columns='Data Item', inplace=True)\n"
     ]
    }
   ],
   "source": [
    "#For each crop, remove 'Data Item' column and add 'Units' column \n",
    "mo_yield_corn.drop(columns='Data Item', inplace=True)\n",
    "mo_yield_cotton.drop(columns='Data Item', inplace=True)\n",
    "mo_yield_soybeans.drop(columns='Data Item', inplace=True)\n",
    "mo_yield_rice.drop(columns='Data Item', inplace=True)\n",
    "mo_yield_wheat.drop(columns='Data Item', inplace=True)"
   ]
  },
  {
   "cell_type": "code",
   "execution_count": 30,
   "id": "f9069855",
   "metadata": {},
   "outputs": [
    {
     "name": "stdout",
     "output_type": "stream",
     "text": [
      "    Year Commodity  Yearly Yield\n",
      "0   2023      CORN         147.0\n",
      "5   2022      CORN         161.0\n",
      "10  2021      CORN         159.0\n",
      "15  2020      CORN         171.0\n",
      "20  2019      CORN         155.0\n"
     ]
    }
   ],
   "source": [
    "print(mo_yield_corn.head())"
   ]
  },
  {
   "cell_type": "code",
   "execution_count": 31,
   "id": "1ceb4e9e",
   "metadata": {},
   "outputs": [
    {
     "name": "stderr",
     "output_type": "stream",
     "text": [
      "/var/folders/cx/wp0ffkfd3h32cgy6c0r6xtwc0000gn/T/ipykernel_44696/3592671306.py:1: SettingWithCopyWarning: \n",
      "A value is trying to be set on a copy of a slice from a DataFrame.\n",
      "Try using .loc[row_indexer,col_indexer] = value instead\n",
      "\n",
      "See the caveats in the documentation: https://pandas.pydata.org/pandas-docs/stable/user_guide/indexing.html#returning-a-view-versus-a-copy\n",
      "  mo_yield_corn['Units'] = 'bu / acre'\n",
      "/var/folders/cx/wp0ffkfd3h32cgy6c0r6xtwc0000gn/T/ipykernel_44696/3592671306.py:2: SettingWithCopyWarning: \n",
      "A value is trying to be set on a copy of a slice from a DataFrame.\n",
      "Try using .loc[row_indexer,col_indexer] = value instead\n",
      "\n",
      "See the caveats in the documentation: https://pandas.pydata.org/pandas-docs/stable/user_guide/indexing.html#returning-a-view-versus-a-copy\n",
      "  mo_yield_cotton['Units'] = 'bu / acre'\n",
      "/var/folders/cx/wp0ffkfd3h32cgy6c0r6xtwc0000gn/T/ipykernel_44696/3592671306.py:3: SettingWithCopyWarning: \n",
      "A value is trying to be set on a copy of a slice from a DataFrame.\n",
      "Try using .loc[row_indexer,col_indexer] = value instead\n",
      "\n",
      "See the caveats in the documentation: https://pandas.pydata.org/pandas-docs/stable/user_guide/indexing.html#returning-a-view-versus-a-copy\n",
      "  mo_yield_soybeans['Units'] = 'bu / acre'\n",
      "/var/folders/cx/wp0ffkfd3h32cgy6c0r6xtwc0000gn/T/ipykernel_44696/3592671306.py:4: SettingWithCopyWarning: \n",
      "A value is trying to be set on a copy of a slice from a DataFrame.\n",
      "Try using .loc[row_indexer,col_indexer] = value instead\n",
      "\n",
      "See the caveats in the documentation: https://pandas.pydata.org/pandas-docs/stable/user_guide/indexing.html#returning-a-view-versus-a-copy\n",
      "  mo_yield_rice['Units'] = 'bu / acre'\n",
      "/var/folders/cx/wp0ffkfd3h32cgy6c0r6xtwc0000gn/T/ipykernel_44696/3592671306.py:5: SettingWithCopyWarning: \n",
      "A value is trying to be set on a copy of a slice from a DataFrame.\n",
      "Try using .loc[row_indexer,col_indexer] = value instead\n",
      "\n",
      "See the caveats in the documentation: https://pandas.pydata.org/pandas-docs/stable/user_guide/indexing.html#returning-a-view-versus-a-copy\n",
      "  mo_yield_wheat['Units'] = 'bu / acre'\n"
     ]
    }
   ],
   "source": [
    "mo_yield_corn['Units'] = 'bu / acre'\n",
    "mo_yield_cotton['Units'] = 'bu / acre'\n",
    "mo_yield_soybeans['Units'] = 'bu / acre'\n",
    "mo_yield_rice['Units'] = 'bu / acre'\n",
    "mo_yield_wheat['Units'] = 'bu / acre'"
   ]
  },
  {
   "cell_type": "code",
   "execution_count": 32,
   "id": "cbdb43c2",
   "metadata": {},
   "outputs": [
    {
     "name": "stdout",
     "output_type": "stream",
     "text": [
      "    Year Commodity  Yearly Yield      Units\n",
      "0   2023      CORN         147.0  bu / acre\n",
      "5   2022      CORN         161.0  bu / acre\n",
      "10  2021      CORN         159.0  bu / acre\n",
      "15  2020      CORN         171.0  bu / acre\n",
      "20  2019      CORN         155.0  bu / acre\n"
     ]
    }
   ],
   "source": [
    "print(mo_yield_corn.head())"
   ]
  },
  {
   "cell_type": "code",
   "execution_count": 33,
   "id": "ca1b9d3b",
   "metadata": {},
   "outputs": [
    {
     "name": "stdout",
     "output_type": "stream",
     "text": [
      "    Year Commodity  Yearly Yield      Units\n",
      "4   2023     WHEAT          70.0  bu / acre\n",
      "9   2022     WHEAT          60.0  bu / acre\n",
      "14  2021     WHEAT          65.0  bu / acre\n",
      "19  2020     WHEAT          62.0  bu / acre\n",
      "24  2019     WHEAT          63.0  bu / acre\n"
     ]
    }
   ],
   "source": [
    "print(mo_yield_wheat.head())"
   ]
  },
  {
   "cell_type": "code",
   "execution_count": 34,
   "id": "d7af0753",
   "metadata": {},
   "outputs": [
    {
     "name": "stdout",
     "output_type": "stream",
     "text": [
      "    Year Commodity  Yearly Yield      Units\n",
      "1   2023    COTTON          41.0  bu / acre\n",
      "6   2022    COTTON          39.0  bu / acre\n",
      "11  2021    COTTON          39.0  bu / acre\n",
      "16  2020    COTTON          36.0  bu / acre\n",
      "21  2019    COTTON          37.0  bu / acre\n"
     ]
    }
   ],
   "source": [
    "print(mo_yield_cotton.head())"
   ]
  },
  {
   "cell_type": "code",
   "execution_count": 35,
   "id": "2065e72d",
   "metadata": {},
   "outputs": [
    {
     "name": "stdout",
     "output_type": "stream",
     "text": [
      "    Year Commodity  Yearly Yield      Units\n",
      "3   2023  SOYBEANS          45.0  bu / acre\n",
      "8   2022  SOYBEANS          45.5  bu / acre\n",
      "13  2021  SOYBEANS          49.0  bu / acre\n",
      "18  2020  SOYBEANS          51.0  bu / acre\n",
      "23  2019  SOYBEANS          46.0  bu / acre\n"
     ]
    }
   ],
   "source": [
    "print(mo_yield_soybeans.head())"
   ]
  },
  {
   "cell_type": "code",
   "execution_count": 36,
   "id": "b4b117dd",
   "metadata": {},
   "outputs": [
    {
     "name": "stdout",
     "output_type": "stream",
     "text": [
      "    Year Commodity  Yearly Yield      Units\n",
      "2   2023      RICE         167.0  bu / acre\n",
      "7   2022      RICE         176.0  bu / acre\n",
      "12  2021      RICE         179.0  bu / acre\n",
      "17  2020      RICE         161.0  bu / acre\n",
      "22  2019      RICE         164.0  bu / acre\n"
     ]
    }
   ],
   "source": [
    "print(mo_yield_rice.head())"
   ]
  },
  {
   "cell_type": "code",
   "execution_count": 37,
   "id": "5a4905e3",
   "metadata": {},
   "outputs": [
    {
     "data": {
      "image/png": "[encoded data removed]",
      "text/plain": [
       "<Figure size 800x1200 with 5 Axes>"
      ]
     },
     "metadata": {},
     "output_type": "display_data"
    }
   ],
   "source": [
    "#plot timeseries of each crop \n",
    "fig,ax = plt.subplots(3,2,figsize=(8,12))\n",
    "ax[0,0].plot(mo_yield_corn['Year'],mo_yield_corn['Yearly Yield'])\n",
    "ax[0,0].set_ylabel('Yield (bu/acre)')\n",
    "#ax[0,0].set_xlabel('Years')\n",
    "ax[0,0].set_title('Annual Corn Yield')\n",
    "\n",
    "ax[0,1].plot(mo_yield_cotton['Year'],mo_yield_cotton['Yearly Yield'])\n",
    "ax[0,1].set_ylabel('Yield (bu/acre)')\n",
    "#ax[0,1].set_xlabel('Years')\n",
    "ax[0,1].set_title('Annual Cotton Yield')\n",
    "\n",
    "ax[1,0].plot(mo_yield_soybeans['Year'],mo_yield_soybeans['Yearly Yield'])\n",
    "ax[1,0].set_ylabel('Yield (bu/acre)')\n",
    "#ax[1,0].set_xlabel('Years')\n",
    "ax[1,0].set_title('Annual Soybean Yield')\n",
    "\n",
    "ax[1,1].plot(mo_yield_rice['Year'],mo_yield_rice['Yearly Yield'])\n",
    "ax[1,1].set_ylabel('Yield (bu/acre)')\n",
    "#ax[1,1].set_xlabel('Years')\n",
    "ax[1,1].set_title('Annual Rice Yield')\n",
    "\n",
    "ax[2,0].plot(mo_yield_wheat['Year'],mo_yield_wheat['Yearly Yield'])\n",
    "ax[2,0].set_ylabel('Yield (bu/acre)')\n",
    "#ax[2,0].set_xlabel('Years')\n",
    "ax[2,0].set_title('Annual Wheat Yield')\n",
    "\n",
    "fig.delaxes(ax[2,1])\n",
    "\n",
    "plt.show()"
   ]
  },
  {
   "cell_type": "markdown",
   "id": "0dc93d36",
   "metadata": {},
   "source": [
    "# Explore and clean the SOI data "
   ]
  },
  {
   "cell_type": "code",
   "execution_count": 38,
   "id": "06a01574",
   "metadata": {},
   "outputs": [
    {
     "name": "stdout",
     "output_type": "stream",
     "text": [
      "<class 'pandas.core.frame.DataFrame'>\n",
      "RangeIndex: 73 entries, 0 to 72\n",
      "Data columns (total 13 columns):\n",
      " #   Column  Non-Null Count  Dtype  \n",
      "---  ------  --------------  -----  \n",
      " 0   YEAR    73 non-null     int64  \n",
      " 1   JAN     73 non-null     float64\n",
      " 2   FEB     73 non-null     float64\n",
      " 3   MAR     73 non-null     float64\n",
      " 4   APR     73 non-null     float64\n",
      " 5   MAY     73 non-null     float64\n",
      " 6   JUN     73 non-null     float64\n",
      " 7   JUL     73 non-null     float64\n",
      " 8   AUG     73 non-null     float64\n",
      " 9   SEP     73 non-null     float64\n",
      " 10  OCT     73 non-null     float64\n",
      " 11  NOV     73 non-null     float64\n",
      " 12  DEC     73 non-null     float64\n",
      "dtypes: float64(12), int64(1)\n",
      "memory usage: 7.5 KB\n",
      "None\n"
     ]
    }
   ],
   "source": [
    "print(soi_standard.info())"
   ]
  },
  {
   "cell_type": "code",
   "execution_count": 39,
   "id": "a2e1816d",
   "metadata": {},
   "outputs": [
    {
     "name": "stdout",
     "output_type": "stream",
     "text": [
      "   YEAR  JAN  FEB  MAR  APR  MAY  JUN  JUL  AUG  SEP  OCT  NOV  DEC\n",
      "0  1951  1.5  0.9 -0.1 -0.3 -0.7  0.2 -1.0 -0.2 -1.1 -1.0 -0.8 -0.7\n",
      "1  1952 -0.9 -0.6  0.5 -0.2  0.8  0.7  0.5  0.1 -0.2  0.4  0.0 -1.2\n",
      "2  1953  0.3 -0.5 -0.2  0.2 -1.7  0.1 -0.0 -1.2 -1.2  0.1 -0.3 -0.5\n",
      "3  1954  0.7 -0.3  0.3  0.6  0.5  0.1  0.4  1.1  0.2  0.3  0.1  1.4\n",
      "4  1955 -0.5  1.9  0.6 -0.1  1.0  1.3  1.6  1.5  1.3  1.5  1.2  1.0\n"
     ]
    }
   ],
   "source": [
    "print(soi_standard.head())"
   ]
  },
  {
   "cell_type": "code",
   "execution_count": 40,
   "id": "49e7c4ce",
   "metadata": {},
   "outputs": [
    {
     "name": "stdout",
     "output_type": "stream",
     "text": [
      "    YEAR  JAN  FEB  MAR  APR  MAY  JUN  JUL  AUG  SEP  OCT  NOV  DEC\n",
      "46  1997  0.5  1.7 -0.4 -0.6 -1.3 -1.4 -0.8 -1.4 -1.4 -1.5 -1.2 -1.0\n"
     ]
    }
   ],
   "source": [
    "print(soi_standard[soi_standard['YEAR'] == 1997])"
   ]
  },
  {
   "cell_type": "code",
   "execution_count": 41,
   "id": "ed3c5c5b",
   "metadata": {},
   "outputs": [
    {
     "name": "stdout",
     "output_type": "stream",
     "text": [
      "    YEAR  JAN  FEB  MAR  APR  MAY  JUN  JUL  AUG  SEP  OCT  NOV  DEC\n",
      "47  1998 -2.7 -2.0 -2.4 -1.4  0.3  1.0  1.2  1.2  1.0  1.1  1.0  1.4\n"
     ]
    }
   ],
   "source": [
    "print(soi_standard[soi_standard['YEAR'] == 1998])"
   ]
  },
  {
   "cell_type": "code",
   "execution_count": 42,
   "id": "e8ad6522",
   "metadata": {},
   "outputs": [
    {
     "name": "stdout",
     "output_type": "stream",
     "text": [
      "    YEAR  JAN  FEB  MAR  APR  MAY  JUN  JUL  AUG  SEP  OCT  NOV  DEC\n",
      "31  1982  1.2  0.3  0.6  0.1 -0.3 -1.0 -1.5 -1.7 -1.7 -1.7 -2.6 -2.2\n"
     ]
    }
   ],
   "source": [
    "print(soi_standard[soi_standard['YEAR'] == 1982])"
   ]
  },
  {
   "cell_type": "code",
   "execution_count": 43,
   "id": "f0bec249",
   "metadata": {},
   "outputs": [
    {
     "name": "stdout",
     "output_type": "stream",
     "text": [
      "    YEAR  JAN  FEB  MAR  APR  MAY  JUN  JUL  AUG  SEP  OCT  NOV  DEC\n",
      "32  1983 -3.5 -3.6 -2.4 -0.9  0.6  0.0 -0.6  0.1  0.9  0.4 -0.1  0.0\n"
     ]
    }
   ],
   "source": [
    "print(soi_standard[soi_standard['YEAR'] == 1983])"
   ]
  },
  {
   "cell_type": "code",
   "execution_count": 44,
   "id": "3c3e1611",
   "metadata": {},
   "outputs": [],
   "source": [
    "soi_standard_new = soi_standard.copy()"
   ]
  },
  {
   "cell_type": "code",
   "execution_count": 45,
   "id": "ef9f2be6",
   "metadata": {},
   "outputs": [
    {
     "name": "stdout",
     "output_type": "stream",
     "text": [
      "   YEAR  JAN  FEB  MAR  APR  MAY  JUN  JUL  AUG  SEP  OCT  NOV  DEC\n",
      "0  1951  1.5  0.9 -0.1 -0.3 -0.7  0.2 -1.0 -0.2 -1.1 -1.0 -0.8 -0.7\n",
      "1  1952 -0.9 -0.6  0.5 -0.2  0.8  0.7  0.5  0.1 -0.2  0.4  0.0 -1.2\n",
      "2  1953  0.3 -0.5 -0.2  0.2 -1.7  0.1 -0.0 -1.2 -1.2  0.1 -0.3 -0.5\n",
      "3  1954  0.7 -0.3  0.3  0.6  0.5  0.1  0.4  1.1  0.2  0.3  0.1  1.4\n",
      "4  1955 -0.5  1.9  0.6 -0.1  1.0  1.3  1.6  1.5  1.3  1.5  1.2  1.0\n"
     ]
    }
   ],
   "source": [
    "print(soi_standard_new.head())"
   ]
  },
  {
   "cell_type": "code",
   "execution_count": 46,
   "id": "631ed541",
   "metadata": {},
   "outputs": [
    {
     "name": "stdout",
     "output_type": "stream",
     "text": [
      "RangeIndex(start=0, stop=73, step=1)\n"
     ]
    }
   ],
   "source": [
    "print(soi_standard_new.index)"
   ]
  },
  {
   "cell_type": "code",
   "execution_count": null,
   "id": "8e5c68d5",
   "metadata": {},
   "outputs": [],
   "source": [
    "#Calculate Dec-Jan-Feb-Mar mean SOI for each year to identify period as El Nino, La Nina, or Neutral\n",
    "#NOTE: the Dec index comes from previous year    "
   ]
  },
  {
   "cell_type": "code",
   "execution_count": 47,
   "id": "4c1e5117",
   "metadata": {},
   "outputs": [],
   "source": [
    "#Function to compute Dec-Jan_Feb_Mar mean SOI\n",
    "def calculate_mean_soi(soi,soi_minus):\n",
    "    \n",
    "    hold = soi[0:3]\n",
    "    hold_minus = soi_minus[11]\n",
    "    \n",
    "    hold.insert(0,hold_minus) \n",
    "    \n",
    "    mean_soi = round(sum(hold)/len(hold),2)\n",
    "    \n",
    "    return mean_soi"
   ]
  },
  {
   "cell_type": "code",
   "execution_count": 48,
   "id": "f3bce49f",
   "metadata": {},
   "outputs": [],
   "source": [
    "#Calculate the Dec-Jan-Feb-Mar mean SOI for each year\n",
    "mean_soi = []\n",
    "\n",
    "#item=1\n",
    "#yr = soi_standard_new['YEAR'][item]\n",
    "#print(yr)\n",
    "\n",
    "#temp = list(soi_standard_new.iloc[item][1:13])\n",
    "#temp_minus = list(soi_standard_new.iloc[item-1][1:13])\n",
    "#print(temp)\n",
    "#print(temp_minus)\n",
    "\n",
    "\n",
    "for item in soi_standard_new.index:\n",
    "    \n",
    "    yr = soi_standard_new['YEAR'][item]\n",
    "    \n",
    "    if yr >= 1952:\n",
    "        \n",
    "        temp = list(soi_standard_new.iloc[item][1:13])\n",
    "        temp_minus = list(soi_standard_new.iloc[item-1][1:13])\n",
    "\n",
    "        mean_soi.append(calculate_mean_soi(temp,temp_minus))\n",
    "        \n",
    "    else:\n",
    "        \n",
    "        mean_soi.append(-9999.)"
   ]
  },
  {
   "cell_type": "code",
   "execution_count": 49,
   "id": "0b49657c",
   "metadata": {},
   "outputs": [
    {
     "name": "stdout",
     "output_type": "stream",
     "text": [
      "1951 -9999.0\n",
      "1952 -0.43\n",
      "1953 -0.4\n",
      "1954 0.05\n",
      "1955 0.85\n",
      "1956 1.3\n",
      "1957 0.45\n",
      "1958 -0.6\n",
      "1959 -0.4\n",
      "1960 0.53\n",
      "1961 -0.1\n",
      "1962 0.83\n",
      "1963 0.72\n",
      "1964 -0.12\n",
      "1965 0.13\n",
      "1966 -0.55\n",
      "1967 1.07\n",
      "1968 0.33\n",
      "1969 -0.35\n",
      "1970 -0.28\n",
      "1971 1.65\n",
      "1972 0.62\n",
      "1973 -0.57\n",
      "1974 2.18\n",
      "1975 0.53\n",
      "1976 1.73\n",
      "1977 0.0\n",
      "1978 -1.08\n",
      "1979 0.15\n",
      "1980 -0.1\n",
      "1981 -0.3\n",
      "1982 0.65\n",
      "1983 -2.93\n",
      "1984 0.23\n",
      "1985 0.4\n",
      "1986 0.17\n",
      "1987 -1.15\n",
      "1988 -0.1\n",
      "1989 1.25\n",
      "1990 -0.7\n",
      "1991 0.0\n",
      "1992 -1.9\n",
      "1993 -0.68\n",
      "1994 -0.07\n",
      "1995 -0.23\n",
      "1996 0.48\n",
      "1997 0.67\n",
      "1998 -2.02\n",
      "1999 1.38\n",
      "2000 1.27\n",
      "2001 1.1\n",
      "2002 0.12\n",
      "2003 -0.57\n",
      "2004 0.35\n",
      "2005 -0.83\n",
      "2006 0.9\n",
      "2007 -0.25\n",
      "2008 1.88\n",
      "2009 1.2\n",
      "2010 -1.0\n",
      "2011 2.6\n",
      "2012 1.2\n",
      "2013 0.15\n",
      "2014 0.18\n",
      "2015 -0.47\n",
      "2016 -1.23\n",
      "2017 0.33\n",
      "2018 0.5\n",
      "2019 -0.17\n",
      "2020 -0.15\n",
      "2021 1.4\n",
      "2022 1.23\n",
      "2023 1.28\n"
     ]
    }
   ],
   "source": [
    "for item in soi_standard_new.index:\n",
    "    print(soi_standard_new['YEAR'][item],mean_soi[item])\n",
    "    "
   ]
  },
  {
   "cell_type": "code",
   "execution_count": 50,
   "id": "62e9dddd",
   "metadata": {},
   "outputs": [],
   "source": [
    "soi_standard_new['DJFM mean'] = mean_soi"
   ]
  },
  {
   "cell_type": "code",
   "execution_count": 51,
   "id": "293342b4",
   "metadata": {},
   "outputs": [
    {
     "name": "stdout",
     "output_type": "stream",
     "text": [
      "   YEAR  JAN  FEB  MAR  APR  MAY  JUN  JUL  AUG  SEP  OCT  NOV  DEC  DJFM mean\n",
      "0  1951  1.5  0.9 -0.1 -0.3 -0.7  0.2 -1.0 -0.2 -1.1 -1.0 -0.8 -0.7   -9999.00\n",
      "1  1952 -0.9 -0.6  0.5 -0.2  0.8  0.7  0.5  0.1 -0.2  0.4  0.0 -1.2      -0.43\n",
      "2  1953  0.3 -0.5 -0.2  0.2 -1.7  0.1 -0.0 -1.2 -1.2  0.1 -0.3 -0.5      -0.40\n",
      "3  1954  0.7 -0.3  0.3  0.6  0.5  0.1  0.4  1.1  0.2  0.3  0.1  1.4       0.05\n",
      "4  1955 -0.5  1.9  0.6 -0.1  1.0  1.3  1.6  1.5  1.3  1.5  1.2  1.0       0.85\n"
     ]
    }
   ],
   "source": [
    "print(soi_standard_new.head())"
   ]
  },
  {
   "cell_type": "code",
   "execution_count": 52,
   "id": "821950fc",
   "metadata": {},
   "outputs": [],
   "source": [
    "#Remove row associated with 1951\n",
    "soi_standard_new_test = soi_standard_new[soi_standard_new['DJFM mean'] != -9999.]"
   ]
  },
  {
   "cell_type": "code",
   "execution_count": 53,
   "id": "815abea5",
   "metadata": {},
   "outputs": [
    {
     "name": "stdout",
     "output_type": "stream",
     "text": [
      "   YEAR  JAN  FEB  MAR  APR  MAY  JUN  JUL  AUG  SEP  OCT  NOV  DEC  DJFM mean\n",
      "1  1952 -0.9 -0.6  0.5 -0.2  0.8  0.7  0.5  0.1 -0.2  0.4  0.0 -1.2      -0.43\n",
      "2  1953  0.3 -0.5 -0.2  0.2 -1.7  0.1 -0.0 -1.2 -1.2  0.1 -0.3 -0.5      -0.40\n",
      "3  1954  0.7 -0.3  0.3  0.6  0.5  0.1  0.4  1.1  0.2  0.3  0.1  1.4       0.05\n",
      "4  1955 -0.5  1.9  0.6 -0.1  1.0  1.3  1.6  1.5  1.3  1.5  1.2  1.0       0.85\n",
      "5  1956  1.3  1.6  1.3  0.9  1.4  1.1  1.1  1.2  0.1  1.8  0.2  1.1       1.30\n"
     ]
    }
   ],
   "source": [
    "print(soi_standard_new_test.head())"
   ]
  },
  {
   "cell_type": "code",
   "execution_count": 54,
   "id": "e87fcd04",
   "metadata": {},
   "outputs": [],
   "source": [
    "soi_standard_new_djfm = soi_standard_new_test.drop(columns=['JAN','FEB','MAR','APR','MAY','JUN','JUL','AUG', \\\n",
    "                                                            'SEP','OCT','NOV','DEC'])"
   ]
  },
  {
   "cell_type": "code",
   "execution_count": 55,
   "id": "76a70787",
   "metadata": {},
   "outputs": [
    {
     "name": "stdout",
     "output_type": "stream",
     "text": [
      "   YEAR  DJFM mean\n",
      "1  1952      -0.43\n",
      "2  1953      -0.40\n",
      "3  1954       0.05\n",
      "4  1955       0.85\n",
      "5  1956       1.30\n"
     ]
    }
   ],
   "source": [
    "print(soi_standard_new_djfm.head())"
   ]
  },
  {
   "cell_type": "code",
   "execution_count": 56,
   "id": "c17f6fa3",
   "metadata": {
    "scrolled": false
   },
   "outputs": [
    {
     "data": {
      "image/png": "[encoded data removed]",
      "text/plain": [
       "<Figure size 640x480 with 1 Axes>"
      ]
     },
     "metadata": {},
     "output_type": "display_data"
    }
   ],
   "source": [
    "#colors = np.where(soi_standard_new_djfm['DJFM mean'] >= 0.,'blue','red')\n",
    "\n",
    "fig,ax = plt.subplots()\n",
    "ax.plot(soi_standard_new_djfm['YEAR'], soi_standard_new_djfm['DJFM mean'],marker='o')\n",
    "ax.set_ylabel('SOI')\n",
    "ax.set_xlabel('Years')\n",
    "ax.set_title('Mean DJFM SOI')\n",
    "plt.axhline(0, color='black')\n",
    "\n",
    "ax.annotate('La Nina',\n",
    "            xy=[1952,2],\n",
    "            fontsize=20)\n",
    "\n",
    "ax.annotate('El Nino',\n",
    "            xy=[1952,-2],\n",
    "            fontsize=20)\n",
    "plt.show()"
   ]
  },
  {
   "cell_type": "markdown",
   "id": "6ce94716",
   "metadata": {},
   "source": [
    "# Merge cleaned datasets"
   ]
  },
  {
   "cell_type": "code",
   "execution_count": 57,
   "id": "2d694ead",
   "metadata": {},
   "outputs": [],
   "source": [
    "#Concatenate crop yield datasets \n",
    "mo_yield_concat = pd.concat([mo_yield_corn.reset_index(drop=True), \\\n",
    "                             mo_yield_cotton.reset_index(drop=True), \\\n",
    "                             mo_yield_rice.reset_index(drop=True), \\\n",
    "                             mo_yield_soybeans.reset_index(drop=True), \\\n",
    "                             mo_yield_wheat.reset_index(drop=True)], \\\n",
    "                            axis=1, \\\n",
    "                            ignore_index=False)"
   ]
  },
  {
   "cell_type": "code",
   "execution_count": 58,
   "id": "e2bfed41",
   "metadata": {},
   "outputs": [
    {
     "name": "stdout",
     "output_type": "stream",
     "text": [
      "   Year Commodity  Yearly Yield      Units  Year Commodity  Yearly Yield  \\\n",
      "0  2023      CORN         147.0  bu / acre  2023    COTTON          41.0   \n",
      "1  2022      CORN         161.0  bu / acre  2022    COTTON          39.0   \n",
      "2  2021      CORN         159.0  bu / acre  2021    COTTON          39.0   \n",
      "3  2020      CORN         171.0  bu / acre  2020    COTTON          36.0   \n",
      "4  2019      CORN         155.0  bu / acre  2019    COTTON          37.0   \n",
      "\n",
      "       Units  Year Commodity  Yearly Yield      Units  Year Commodity  \\\n",
      "0  bu / acre  2023      RICE         167.0  bu / acre  2023  SOYBEANS   \n",
      "1  bu / acre  2022      RICE         176.0  bu / acre  2022  SOYBEANS   \n",
      "2  bu / acre  2021      RICE         179.0  bu / acre  2021  SOYBEANS   \n",
      "3  bu / acre  2020      RICE         161.0  bu / acre  2020  SOYBEANS   \n",
      "4  bu / acre  2019      RICE         164.0  bu / acre  2019  SOYBEANS   \n",
      "\n",
      "   Yearly Yield      Units  Year Commodity  Yearly Yield      Units  \n",
      "0          45.0  bu / acre  2023     WHEAT          70.0  bu / acre  \n",
      "1          45.5  bu / acre  2022     WHEAT          60.0  bu / acre  \n",
      "2          49.0  bu / acre  2021     WHEAT          65.0  bu / acre  \n",
      "3          51.0  bu / acre  2020     WHEAT          62.0  bu / acre  \n",
      "4          46.0  bu / acre  2019     WHEAT          63.0  bu / acre  \n"
     ]
    }
   ],
   "source": [
    "print(mo_yield_concat.head())"
   ]
  },
  {
   "cell_type": "code",
   "execution_count": 59,
   "id": "94a07272",
   "metadata": {},
   "outputs": [
    {
     "name": "stdout",
     "output_type": "stream",
     "text": [
      "Index(['Year', 'Commodity', 'Yearly Yield', 'Units', 'Year', 'Commodity',\n",
      "       'Yearly Yield', 'Units', 'Year', 'Commodity', 'Yearly Yield', 'Units',\n",
      "       'Year', 'Commodity', 'Yearly Yield', 'Units', 'Year', 'Commodity',\n",
      "       'Yearly Yield', 'Units'],\n",
      "      dtype='object')\n"
     ]
    }
   ],
   "source": [
    "print(mo_yield_concat.columns)"
   ]
  },
  {
   "cell_type": "code",
   "execution_count": 62,
   "id": "e526feac",
   "metadata": {},
   "outputs": [],
   "source": [
    "#Rename concatenated columns \n",
    "mo_yield_concat.columns = ['Year Corn', 'Commodity Corn', 'Yearly Yield Corn', 'Units Corn', \\\n",
    "                           'Year Cotton', 'Commodity Cotton', 'Yearly Yield Cotton', 'Units Cotton', \\\n",
    "                           'Year Rice', 'Commodity Rice', 'Yearly Yield Rice', 'Units Rice', \\\n",
    "                           'Year Soybeans', 'Commodity Soybeans', 'Yearly Yield Soybeans', 'Units Soybeans', \\\n",
    "                           'Year Wheat', 'Commodity Wheat', 'Yearly Yield Wheat', 'Units Wheat']"
   ]
  },
  {
   "cell_type": "code",
   "execution_count": 63,
   "id": "cf505862",
   "metadata": {},
   "outputs": [
    {
     "name": "stdout",
     "output_type": "stream",
     "text": [
      "Index(['Year Corn', 'Commodity Corn', 'Yearly Yield Corn', 'Units Corn',\n",
      "       'Year Cotton', 'Commodity Cotton', 'Yearly Yield Cotton',\n",
      "       'Units Cotton', 'Year Rice', 'Commodity Rice', 'Yearly Yield Rice',\n",
      "       'Units Rice', 'Year Soybeans', 'Commodity Soybeans',\n",
      "       'Yearly Yield Soybeans', 'Units Soybeans', 'Year Wheat',\n",
      "       'Commodity Wheat', 'Yearly Yield Wheat', 'Units Wheat'],\n",
      "      dtype='object')\n"
     ]
    }
   ],
   "source": [
    "print(mo_yield_concat.columns)"
   ]
  },
  {
   "cell_type": "code",
   "execution_count": 64,
   "id": "841a913b",
   "metadata": {},
   "outputs": [
    {
     "name": "stdout",
     "output_type": "stream",
     "text": [
      "   Year Corn Commodity Corn  Yearly Yield Corn Units Corn  Year Cotton  \\\n",
      "0       2023           CORN              147.0  bu / acre         2023   \n",
      "1       2022           CORN              161.0  bu / acre         2022   \n",
      "2       2021           CORN              159.0  bu / acre         2021   \n",
      "3       2020           CORN              171.0  bu / acre         2020   \n",
      "4       2019           CORN              155.0  bu / acre         2019   \n",
      "\n",
      "  Commodity Cotton  Yearly Yield Cotton Units Cotton  Year Rice  \\\n",
      "0           COTTON                 41.0    bu / acre       2023   \n",
      "1           COTTON                 39.0    bu / acre       2022   \n",
      "2           COTTON                 39.0    bu / acre       2021   \n",
      "3           COTTON                 36.0    bu / acre       2020   \n",
      "4           COTTON                 37.0    bu / acre       2019   \n",
      "\n",
      "  Commodity Rice  Yearly Yield Rice Units Rice  Year Soybeans  \\\n",
      "0           RICE              167.0  bu / acre           2023   \n",
      "1           RICE              176.0  bu / acre           2022   \n",
      "2           RICE              179.0  bu / acre           2021   \n",
      "3           RICE              161.0  bu / acre           2020   \n",
      "4           RICE              164.0  bu / acre           2019   \n",
      "\n",
      "  Commodity Soybeans  Yearly Yield Soybeans Units Soybeans  Year Wheat  \\\n",
      "0           SOYBEANS                   45.0      bu / acre        2023   \n",
      "1           SOYBEANS                   45.5      bu / acre        2022   \n",
      "2           SOYBEANS                   49.0      bu / acre        2021   \n",
      "3           SOYBEANS                   51.0      bu / acre        2020   \n",
      "4           SOYBEANS                   46.0      bu / acre        2019   \n",
      "\n",
      "  Commodity Wheat  Yearly Yield Wheat Units Wheat  \n",
      "0           WHEAT                70.0   bu / acre  \n",
      "1           WHEAT                60.0   bu / acre  \n",
      "2           WHEAT                65.0   bu / acre  \n",
      "3           WHEAT                62.0   bu / acre  \n",
      "4           WHEAT                63.0   bu / acre  \n"
     ]
    }
   ],
   "source": [
    "print(mo_yield_concat.head())"
   ]
  },
  {
   "cell_type": "code",
   "execution_count": 65,
   "id": "b80cbbb2",
   "metadata": {},
   "outputs": [
    {
     "name": "stdout",
     "output_type": "stream",
     "text": [
      "Index(['Year Corn', 'Commodity Corn', 'Yearly Yield Corn', 'Units Corn',\n",
      "       'Year Cotton', 'Commodity Cotton', 'Yearly Yield Cotton',\n",
      "       'Units Cotton', 'Year Rice', 'Commodity Rice', 'Yearly Yield Rice',\n",
      "       'Units Rice', 'Year Soybeans', 'Commodity Soybeans',\n",
      "       'Yearly Yield Soybeans', 'Units Soybeans', 'Year Wheat',\n",
      "       'Commodity Wheat', 'Yearly Yield Wheat', 'Units Wheat'],\n",
      "      dtype='object')\n"
     ]
    }
   ],
   "source": [
    "print(mo_yield_concat.columns)"
   ]
  },
  {
   "cell_type": "code",
   "execution_count": 66,
   "id": "5a34ec22",
   "metadata": {},
   "outputs": [],
   "source": [
    "#Remove duplicate and unneeded columns \n",
    "mo_yield_concat_drop = mo_yield_concat.drop(columns=['Commodity Corn', 'Units Corn', \\\n",
    "                                                      'Year Cotton', 'Commodity Cotton', 'Units Cotton', \\\n",
    "                                                      'Year Rice', 'Commodity Rice', 'Units Rice', \\\n",
    "                                                      'Year Soybeans', 'Commodity Soybeans', 'Units Soybeans', \\\n",
    "                                                      'Year Wheat', 'Commodity Wheat'])"
   ]
  },
  {
   "cell_type": "code",
   "execution_count": 67,
   "id": "c1e2c523",
   "metadata": {},
   "outputs": [
    {
     "name": "stdout",
     "output_type": "stream",
     "text": [
      "   Year Corn  Yearly Yield Corn  Yearly Yield Cotton  Yearly Yield Rice  \\\n",
      "0       2023              147.0                 41.0              167.0   \n",
      "1       2022              161.0                 39.0              176.0   \n",
      "2       2021              159.0                 39.0              179.0   \n",
      "3       2020              171.0                 36.0              161.0   \n",
      "4       2019              155.0                 37.0              164.0   \n",
      "\n",
      "   Yearly Yield Soybeans  Yearly Yield Wheat Units Wheat  \n",
      "0                   45.0                70.0   bu / acre  \n",
      "1                   45.5                60.0   bu / acre  \n",
      "2                   49.0                65.0   bu / acre  \n",
      "3                   51.0                62.0   bu / acre  \n",
      "4                   46.0                63.0   bu / acre  \n"
     ]
    }
   ],
   "source": [
    "print(mo_yield_concat_drop.head())"
   ]
  },
  {
   "cell_type": "code",
   "execution_count": 68,
   "id": "ce62e696",
   "metadata": {},
   "outputs": [],
   "source": [
    "#Rename columns \n",
    "mo_yield_concat_drop.rename({'Year Corn':'Year', 'Units Wheat':'Units'}, axis=1, inplace=True)"
   ]
  },
  {
   "cell_type": "code",
   "execution_count": 69,
   "id": "be718240",
   "metadata": {},
   "outputs": [
    {
     "name": "stdout",
     "output_type": "stream",
     "text": [
      "   Year  Yearly Yield Corn  Yearly Yield Cotton  Yearly Yield Rice  \\\n",
      "0  2023              147.0                 41.0              167.0   \n",
      "1  2022              161.0                 39.0              176.0   \n",
      "2  2021              159.0                 39.0              179.0   \n",
      "3  2020              171.0                 36.0              161.0   \n",
      "4  2019              155.0                 37.0              164.0   \n",
      "\n",
      "   Yearly Yield Soybeans  Yearly Yield Wheat      Units  \n",
      "0                   45.0                70.0  bu / acre  \n",
      "1                   45.5                60.0  bu / acre  \n",
      "2                   49.0                65.0  bu / acre  \n",
      "3                   51.0                62.0  bu / acre  \n",
      "4                   46.0                63.0  bu / acre  \n"
     ]
    }
   ],
   "source": [
    "print(mo_yield_concat_drop.head())"
   ]
  },
  {
   "cell_type": "code",
   "execution_count": 70,
   "id": "b0b45271",
   "metadata": {},
   "outputs": [],
   "source": [
    "#Rename columns \n",
    "mo_yield_concat_drop.rename({'Yearly Yield Corn':'Corn Yield', \\\n",
    "                             'Yearly Yield Cotton':'Cotton Yield', \\\n",
    "                             'Yearly Yield Rice':'Rice Yield', \\\n",
    "                             'Yearly Yield Soybeans':'Soybean Yield', \\\n",
    "                             'Yearly Yield Wheat':'Wheat Yield'}, axis=1, inplace=True)"
   ]
  },
  {
   "cell_type": "code",
   "execution_count": 74,
   "id": "90d02ef9",
   "metadata": {},
   "outputs": [],
   "source": [
    "mo_yield_concat_drop.rename({'Units':'Yield Units'}, axis=1, inplace=True)"
   ]
  },
  {
   "cell_type": "code",
   "execution_count": 75,
   "id": "6714b6bb",
   "metadata": {},
   "outputs": [
    {
     "name": "stdout",
     "output_type": "stream",
     "text": [
      "   Year  Corn Yield  Cotton Yield  Rice Yield  Soybean Yield  Wheat Yield  \\\n",
      "0  2023       147.0          41.0       167.0           45.0         70.0   \n",
      "1  2022       161.0          39.0       176.0           45.5         60.0   \n",
      "2  2021       159.0          39.0       179.0           49.0         65.0   \n",
      "3  2020       171.0          36.0       161.0           51.0         62.0   \n",
      "4  2019       155.0          37.0       164.0           46.0         63.0   \n",
      "\n",
      "  Yield Units  \n",
      "0   bu / acre  \n",
      "1   bu / acre  \n",
      "2   bu / acre  \n",
      "3   bu / acre  \n",
      "4   bu / acre  \n"
     ]
    }
   ],
   "source": [
    "print(mo_yield_concat_drop.head())"
   ]
  },
  {
   "cell_type": "code",
   "execution_count": 85,
   "id": "0d9d83af",
   "metadata": {},
   "outputs": [
    {
     "name": "stdout",
     "output_type": "stream",
     "text": [
      "Int64Index([72], dtype='int64')\n",
      "    Year  Corn Yield  Cotton Yield  Rice Yield  Soybean Yield  Wheat Yield  \\\n",
      "72  1951        34.0           9.0        57.0           20.0         17.0   \n",
      "\n",
      "   Yield Units  \n",
      "72   bu / acre  \n"
     ]
    }
   ],
   "source": [
    "#Remove row associated with 1951\n",
    "ii = mo_yield_concat_drop.index[mo_yield_concat_drop['Year']==1951]\n",
    "print(ii)\n",
    "print(mo_yield_concat_drop.loc[ii])"
   ]
  },
  {
   "cell_type": "code",
   "execution_count": 86,
   "id": "65240e28",
   "metadata": {},
   "outputs": [],
   "source": [
    "mo_yield_concat_drop.drop(ii,axis=0,inplace=True)"
   ]
  },
  {
   "cell_type": "code",
   "execution_count": 87,
   "id": "0276293a",
   "metadata": {},
   "outputs": [
    {
     "name": "stdout",
     "output_type": "stream",
     "text": [
      "    Year  Corn Yield  Cotton Yield  Rice Yield  Soybean Yield  Wheat Yield  \\\n",
      "67  1956        48.0          18.0        67.0           20.0         30.5   \n",
      "68  1955        40.0          16.0        58.0           17.5         31.0   \n",
      "69  1954        23.0          15.0        59.0           14.5         30.0   \n",
      "70  1953        33.5          12.0        56.0           13.5         26.0   \n",
      "71  1952        41.0          11.0        54.0           18.5         22.0   \n",
      "\n",
      "   Yield Units  \n",
      "67   bu / acre  \n",
      "68   bu / acre  \n",
      "69   bu / acre  \n",
      "70   bu / acre  \n",
      "71   bu / acre  \n"
     ]
    }
   ],
   "source": [
    "print(mo_yield_concat_drop.tail())"
   ]
  },
  {
   "cell_type": "code",
   "execution_count": 72,
   "id": "4da61696",
   "metadata": {},
   "outputs": [
    {
     "name": "stdout",
     "output_type": "stream",
     "text": [
      "   YEAR  DJFM mean\n",
      "1  1952      -0.43\n",
      "2  1953      -0.40\n",
      "3  1954       0.05\n",
      "4  1955       0.85\n",
      "5  1956       1.30\n"
     ]
    }
   ],
   "source": [
    "print(soi_standard_new_djfm.head())"
   ]
  },
  {
   "cell_type": "code",
   "execution_count": 73,
   "id": "faee84fa",
   "metadata": {},
   "outputs": [
    {
     "name": "stdout",
     "output_type": "stream",
     "text": [
      "    YEAR  DJFM mean\n",
      "68  2019      -0.17\n",
      "69  2020      -0.15\n",
      "70  2021       1.40\n",
      "71  2022       1.23\n",
      "72  2023       1.28\n"
     ]
    }
   ],
   "source": [
    "print(soi_standard_new_djfm.tail())"
   ]
  },
  {
   "cell_type": "code",
   "execution_count": 76,
   "id": "c1be671d",
   "metadata": {},
   "outputs": [],
   "source": [
    "#Rename columns\n",
    "soi_standard_new_djfm.rename({'YEAR':'Year'}, axis=1, inplace=True)"
   ]
  },
  {
   "cell_type": "code",
   "execution_count": 78,
   "id": "a3b753ea",
   "metadata": {},
   "outputs": [],
   "source": [
    "soi_standard_new_djfm.rename({'DJFM mean':'DJFM Mean SOI'}, axis=1, inplace=True)"
   ]
  },
  {
   "cell_type": "code",
   "execution_count": 79,
   "id": "c66fe3d7",
   "metadata": {},
   "outputs": [
    {
     "name": "stdout",
     "output_type": "stream",
     "text": [
      "   Year  DJFM Mean SOI\n",
      "1  1952          -0.43\n",
      "2  1953          -0.40\n",
      "3  1954           0.05\n",
      "4  1955           0.85\n",
      "5  1956           1.30\n"
     ]
    }
   ],
   "source": [
    "print(soi_standard_new_djfm.head())"
   ]
  },
  {
   "cell_type": "code",
   "execution_count": 88,
   "id": "a9e45edf",
   "metadata": {},
   "outputs": [],
   "source": [
    "#Merge crop yield data & DJFM mean SOI data\n",
    "final_df = pd.merge(mo_yield_concat_drop,soi_standard_new_djfm, on='Year', how='inner')"
   ]
  },
  {
   "cell_type": "code",
   "execution_count": 89,
   "id": "4c388997",
   "metadata": {},
   "outputs": [
    {
     "name": "stdout",
     "output_type": "stream",
     "text": [
      "   Year  Corn Yield  Cotton Yield  Rice Yield  Soybean Yield  Wheat Yield  \\\n",
      "0  2023       147.0          41.0       167.0           45.0         70.0   \n",
      "1  2022       161.0          39.0       176.0           45.5         60.0   \n",
      "2  2021       159.0          39.0       179.0           49.0         65.0   \n",
      "3  2020       171.0          36.0       161.0           51.0         62.0   \n",
      "4  2019       155.0          37.0       164.0           46.0         63.0   \n",
      "\n",
      "  Yield Units  DJFM Mean SOI  \n",
      "0   bu / acre           1.28  \n",
      "1   bu / acre           1.23  \n",
      "2   bu / acre           1.40  \n",
      "3   bu / acre          -0.15  \n",
      "4   bu / acre          -0.17  \n"
     ]
    }
   ],
   "source": [
    "print(final_df.head())"
   ]
  },
  {
   "cell_type": "code",
   "execution_count": 90,
   "id": "41a6121c",
   "metadata": {},
   "outputs": [
    {
     "name": "stdout",
     "output_type": "stream",
     "text": [
      "    Year  Corn Yield  Cotton Yield  Rice Yield  Soybean Yield  Wheat Yield  \\\n",
      "67  1956        48.0          18.0        67.0           20.0         30.5   \n",
      "68  1955        40.0          16.0        58.0           17.5         31.0   \n",
      "69  1954        23.0          15.0        59.0           14.5         30.0   \n",
      "70  1953        33.5          12.0        56.0           13.5         26.0   \n",
      "71  1952        41.0          11.0        54.0           18.5         22.0   \n",
      "\n",
      "   Yield Units  DJFM Mean SOI  \n",
      "67   bu / acre           1.30  \n",
      "68   bu / acre           0.85  \n",
      "69   bu / acre           0.05  \n",
      "70   bu / acre          -0.40  \n",
      "71   bu / acre          -0.43  \n"
     ]
    }
   ],
   "source": [
    "print(final_df.tail())"
   ]
  },
  {
   "cell_type": "code",
   "execution_count": 92,
   "id": "c2629dbc",
   "metadata": {},
   "outputs": [],
   "source": [
    "# save the data to a new csv file\n",
    "final_df.to_csv('crop_yield_plus_soi.csv', index=False)"
   ]
  },
  {
   "cell_type": "code",
   "execution_count": null,
   "id": "2ac8b79c",
   "metadata": {},
   "outputs": [],
   "source": []
  }
 ],
 "metadata": {
  "kernelspec": {
   "display_name": "Python 3 (ipykernel)",
   "language": "python",
   "name": "python3"
  },
  "language_info": {
   "codemirror_mode": {
    "name": "ipython",
    "version": 3
   },
   "file_extension": ".py",
   "mimetype": "text/x-python",
   "name": "python",
   "nbconvert_exporter": "python",
   "pygments_lexer": "ipython3",
   "version": "3.11.4"
  }
 },
 "nbformat": 4,
 "nbformat_minor": 5
}
